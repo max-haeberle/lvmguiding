{
 "cells": [
  {
   "cell_type": "code",
   "execution_count": 2,
   "metadata": {},
   "outputs": [
    {
     "name": "stdout",
     "output_type": "stream",
     "text": [
      "Created TAP+ (v1.2.1) - Connection:\n",
      "\tHost: gea.esac.esa.int\n",
      "\tUse HTTPS: True\n",
      "\tPort: 443\n",
      "\tSSL Port: 443\n",
      "Created TAP+ (v1.2.1) - Connection:\n",
      "\tHost: geadata.esac.esa.int\n",
      "\tUse HTTPS: True\n",
      "\tPort: 443\n",
      "\tSSL Port: 443\n"
     ]
    }
   ],
   "source": [
    "from astropy.coordinates import SkyCoord\n",
    "import numpy as np\n",
    "\n",
    "import lvmguiding\n",
    "import time\n",
    "import matplotlib\n",
    "import matplotlib.pyplot as plt\n",
    "import sys\n",
    "sys.path.insert(1, 'lvmifusim/')\n",
    "import IFU\n",
    "import scipy.spatial"
   ]
  },
  {
   "cell_type": "markdown",
   "metadata": {},
   "source": [
    "## Load Gaia Stars and convert their positions to focal plane coordinates"
   ]
  },
  {
   "cell_type": "code",
   "execution_count": 3,
   "metadata": {},
   "outputs": [],
   "source": [
    "coordinates_crowded = SkyCoord(270.48085943, -28.45945724,unit=\"deg\")\n",
    "coordinates_median = SkyCoord(195.10462204, -55.248677,unit=\"deg\")\n",
    "coordinates_empty = SkyCoord(184.18604651, 15.16853933,unit=\"deg\")\n",
    "\n",
    "#Those are some example fields identified while checking guide star numbers for all LVM pointings"
   ]
  },
  {
   "cell_type": "code",
   "execution_count": 4,
   "metadata": {},
   "outputs": [],
   "source": [
    "darks_coordinates = np.loadtxt(\"southern_darks.ascii\")"
   ]
  },
  {
   "cell_type": "code",
   "execution_count": 5,
   "metadata": {},
   "outputs": [
    {
     "name": "stdout",
     "output_type": "stream",
     "text": [
      "<SkyCoord (ICRS): (ra, dec) in deg\n",
      "    (14.18200052, -1.96712903)>\n"
     ]
    }
   ],
   "source": [
    "dark_index = 22 #Pick which of the southern darks you want to use\n",
    "\n",
    "coordinates_dark = SkyCoord(darks_coordinates[dark_index,1],darks_coordinates[dark_index,2],unit=\"deg\")\n",
    "\n",
    "print(coordinates_dark)"
   ]
  },
  {
   "cell_type": "code",
   "execution_count": 6,
   "metadata": {},
   "outputs": [],
   "source": [
    "my_instrument = lvmguiding.InstrumentParameters()\n",
    "my_instrument.mag_lim_lower = 21 #If you use a value higher than 17 here, make sure to remote-query the Gaia catalog\n",
    "remote_query = True"
   ]
  },
  {
   "cell_type": "code",
   "execution_count": 36,
   "metadata": {},
   "outputs": [
    {
     "name": "stdout",
     "output_type": "stream",
     "text": [
      "INFO: Query finished. [astroquery.utils.tap.core]\n",
      "Gaia query:  SELECT source_id, ra,dec,phot_g_mean_mag FROM gaiaedr3.gaia_source WHERE phot_g_mean_mag <= 21 AND 1=CONTAINS(POINT('ICRS',ra,dec), CIRCLE('ICRS',14.182000521067359,-1.9671290320522714, 0.692887394120578))\n",
      "3914 stars found within 0.692887394120578 deg\n",
      "Finding the stars in the focal plane within the Gaia catalog took 0.9 s\n",
      "\n",
      "Coordinates:  <SkyCoord (ICRS): (ra, dec) in deg\n",
      "    (14.18200052, -1.96712903)>\n",
      "Number of sources in focal plane:  3914\n"
     ]
    }
   ],
   "source": [
    "c = coordinates_dark\n",
    "\n",
    "time0 = time.time()\n",
    "dd_x_mm,dd_y_mm,culled_cat = lvmguiding.find_guide_stars(c,pa=0,plotflag=False,return_focal_plane_coords=True,remote_catalog=remote_query,inst=my_instrument)\n",
    "time1 = time.time()\n",
    "print(\"Finding the stars in the focal plane within the Gaia catalog took {:.1f} s\".format(time1-time0))\n",
    "print()\n",
    "\n",
    "print(\"Coordinates: \",c)\n",
    "#selection_mag = culled_cat[\"phot_g_mean_mag\"] < maglim\n",
    "print(\"Number of sources in focal plane: \",len(dd_x_mm))\n",
    "#print(\"Stars that pass mag selection: \",np.sum(selection_mag))"
   ]
  },
  {
   "cell_type": "code",
   "execution_count": 37,
   "metadata": {},
   "outputs": [
    {
     "name": "stdout",
     "output_type": "stream",
     "text": [
      "Number of sources in focal plane:  3914\n",
      "Stars that pass second stage mag selection:  3914\n"
     ]
    }
   ],
   "source": [
    "second_stage_mag_lim = my_instrument.mag_lim_lower #Adapt this if you want to change the maglim AFTER the catalog query\n",
    "\n",
    "selection_mag = culled_cat[\"phot_g_mean_mag\"] < second_stage_mag_lim\n",
    "print(\"Number of sources in focal plane: \",len(dd_x_mm))\n",
    "print(\"Stars that pass second stage mag selection: \",np.sum(selection_mag))"
   ]
  },
  {
   "cell_type": "code",
   "execution_count": 38,
   "metadata": {},
   "outputs": [],
   "source": [
    "# Define the IFU, it has to be doubled checked whether the used lens radius is alright and whether the IFU lib produces the correct results\n",
    "\n",
    "my_ifu = IFU.IFU(4) \n",
    "lens_radii = 0.315/2 * np.ones_like(my_ifu.lensx) #This comes from PDR Document, Figure 4"
   ]
  },
  {
   "cell_type": "code",
   "execution_count": 39,
   "metadata": {},
   "outputs": [
    {
     "data": {
      "text/plain": [
       "(61,)"
      ]
     },
     "execution_count": 39,
     "metadata": {},
     "output_type": "execute_result"
    }
   ],
   "source": [
    "lens_radii.shape"
   ]
  },
  {
   "cell_type": "code",
   "execution_count": 40,
   "metadata": {},
   "outputs": [
    {
     "data": {
      "text/plain": [
       "(3914,)"
      ]
     },
     "execution_count": 40,
     "metadata": {},
     "output_type": "execute_result"
    }
   ],
   "source": [
    "dd_x_mm[selection_mag].shape"
   ]
  },
  {
   "cell_type": "code",
   "execution_count": 41,
   "metadata": {},
   "outputs": [
    {
     "data": {
      "text/plain": [
       "(1652579, 2)"
      ]
     },
     "execution_count": 41,
     "metadata": {},
     "output_type": "execute_result"
    }
   ],
   "source": [
    "xy_list.shape"
   ]
  },
  {
   "cell_type": "code",
   "execution_count": 42,
   "metadata": {},
   "outputs": [
    {
     "name": "stdout",
     "output_type": "stream",
     "text": [
      "Creating Tree...\n",
      "... done! Time: 0.0031 s\n"
     ]
    }
   ],
   "source": [
    "nmax=10\n",
    "\n",
    "\n",
    "data_dict={}\n",
    "data_dict[\"x\"] = dd_x_mm[selection_mag].filled() \n",
    "data_dict[\"y\"] = dd_y_mm[selection_mag].filled() \n",
    "data_dict[\"m\"] = culled_cat[\"phot_g_mean_mag\"][selection_mag]\n",
    "print(\"Creating Tree...\")\n",
    "t0 = time.time()\n",
    "#xy_list = np.vstack((dd_x_mm[selection_mag].filled(),dd_y_mm[selection_mag].filled())).T\n",
    "xy_list = np.vstack((data_dict[\"x\"],data_dict[\"y\"])).T\n",
    "YourTreeName = scipy.spatial.cKDTree(xy_list, leafsize=100)\n",
    "t1 = time.time()\n",
    "print(\"... done! Time: {:.4f} s\".format(t1-t0))"
   ]
  },
  {
   "cell_type": "code",
   "execution_count": 43,
   "metadata": {},
   "outputs": [
    {
     "data": {
      "text/plain": [
       "array([21.46051241,  4.1834266 ])"
      ]
     },
     "execution_count": 43,
     "metadata": {},
     "output_type": "execute_result"
    }
   ],
   "source": [
    "xy_list[0]"
   ]
  },
  {
   "cell_type": "code",
   "execution_count": 44,
   "metadata": {},
   "outputs": [
    {
     "data": {
      "text/plain": [
       "0.1575"
      ]
     },
     "execution_count": 44,
     "metadata": {},
     "output_type": "execute_result"
    }
   ],
   "source": [
    "current_r"
   ]
  },
  {
   "cell_type": "code",
   "execution_count": 45,
   "metadata": {},
   "outputs": [],
   "source": [
    "ifu_point_list = []\n",
    "\n",
    "for i in range(len(my_ifu.lensx)):\n",
    "    current_x = my_ifu.lensx[i]\n",
    "    current_y = my_ifu.lensy[i]\n",
    "    \n",
    "    ifu_point_list.append((current_x,current_y))\n"
   ]
  },
  {
   "cell_type": "code",
   "execution_count": 69,
   "metadata": {},
   "outputs": [],
   "source": [
    "query_result = YourTreeName.query(ifu_point_list, k=nmax, distance_upper_bound=lens_radii[0]*2)#"
   ]
  },
  {
   "cell_type": "code",
   "execution_count": 70,
   "metadata": {},
   "outputs": [
    {
     "data": {
      "text/plain": [
       "61"
      ]
     },
     "execution_count": 70,
     "metadata": {},
     "output_type": "execute_result"
    }
   ],
   "source": [
    "len(ifu_point_list)"
   ]
  },
  {
   "cell_type": "code",
   "execution_count": 71,
   "metadata": {},
   "outputs": [
    {
     "data": {
      "text/plain": [
       "(61, 10)"
      ]
     },
     "execution_count": 71,
     "metadata": {},
     "output_type": "execute_result"
    }
   ],
   "source": [
    "query_result[0].shape"
   ]
  },
  {
   "cell_type": "code",
   "execution_count": 72,
   "metadata": {},
   "outputs": [
    {
     "data": {
      "text/plain": [
       "array([0.11340519, 0.1460988 ,        inf,        inf, 0.29697678,\n",
       "       0.15734802, 0.15533979, 0.23740364, 0.09780898,        inf,\n",
       "              inf, 0.2872354 , 0.2578398 , 0.10210743, 0.05400027,\n",
       "       0.22682714, 0.19027995, 0.14337614, 0.15254543,        inf,\n",
       "       0.19972434, 0.18278743, 0.11962711,        inf, 0.19204913,\n",
       "              inf, 0.16947925, 0.15527919, 0.30694949, 0.30908921,\n",
       "              inf,        inf,        inf,        inf,        inf,\n",
       "              inf, 0.29928739, 0.00794295, 0.30365975,        inf,\n",
       "              inf,        inf,        inf,        inf, 0.17242185,\n",
       "       0.13594651,        inf,        inf, 0.15262804, 0.17431503,\n",
       "       0.17809883, 0.22935438, 0.20334594, 0.14407067,        inf,\n",
       "       0.19814232, 0.12328101, 0.22338776, 0.17955321,        inf,\n",
       "       0.2575456 ])"
      ]
     },
     "execution_count": 72,
     "metadata": {},
     "output_type": "execute_result"
    }
   ],
   "source": [
    "query_result[0][:,0]"
   ]
  },
  {
   "cell_type": "code",
   "execution_count": 73,
   "metadata": {},
   "outputs": [
    {
     "data": {
      "text/plain": [
       "array([[ True,  True,  True,  True, False, False, False, False, False,\n",
       "        False],\n",
       "       [ True,  True, False, False, False, False, False, False, False,\n",
       "        False],\n",
       "       [False, False, False, False, False, False, False, False, False,\n",
       "        False],\n",
       "       [False, False, False, False, False, False, False, False, False,\n",
       "        False],\n",
       "       [ True, False, False, False, False, False, False, False, False,\n",
       "        False],\n",
       "       [ True,  True,  True, False, False, False, False, False, False,\n",
       "        False],\n",
       "       [ True, False, False, False, False, False, False, False, False,\n",
       "        False],\n",
       "       [ True,  True,  True, False, False, False, False, False, False,\n",
       "        False],\n",
       "       [ True,  True, False, False, False, False, False, False, False,\n",
       "        False],\n",
       "       [False, False, False, False, False, False, False, False, False,\n",
       "        False],\n",
       "       [False, False, False, False, False, False, False, False, False,\n",
       "        False],\n",
       "       [ True,  True, False, False, False, False, False, False, False,\n",
       "        False],\n",
       "       [ True, False, False, False, False, False, False, False, False,\n",
       "        False],\n",
       "       [ True,  True,  True, False, False, False, False, False, False,\n",
       "        False],\n",
       "       [ True,  True,  True,  True, False, False, False, False, False,\n",
       "        False],\n",
       "       [ True,  True, False, False, False, False, False, False, False,\n",
       "        False],\n",
       "       [ True, False, False, False, False, False, False, False, False,\n",
       "        False],\n",
       "       [ True, False, False, False, False, False, False, False, False,\n",
       "        False],\n",
       "       [ True,  True, False, False, False, False, False, False, False,\n",
       "        False],\n",
       "       [False, False, False, False, False, False, False, False, False,\n",
       "        False],\n",
       "       [ True, False, False, False, False, False, False, False, False,\n",
       "        False],\n",
       "       [ True,  True,  True,  True, False, False, False, False, False,\n",
       "        False],\n",
       "       [ True,  True, False, False, False, False, False, False, False,\n",
       "        False],\n",
       "       [False, False, False, False, False, False, False, False, False,\n",
       "        False],\n",
       "       [ True, False, False, False, False, False, False, False, False,\n",
       "        False],\n",
       "       [False, False, False, False, False, False, False, False, False,\n",
       "        False],\n",
       "       [ True,  True, False, False, False, False, False, False, False,\n",
       "        False],\n",
       "       [ True, False, False, False, False, False, False, False, False,\n",
       "        False],\n",
       "       [ True, False, False, False, False, False, False, False, False,\n",
       "        False],\n",
       "       [ True, False, False, False, False, False, False, False, False,\n",
       "        False],\n",
       "       [False, False, False, False, False, False, False, False, False,\n",
       "        False],\n",
       "       [False, False, False, False, False, False, False, False, False,\n",
       "        False],\n",
       "       [False, False, False, False, False, False, False, False, False,\n",
       "        False],\n",
       "       [False, False, False, False, False, False, False, False, False,\n",
       "        False],\n",
       "       [False, False, False, False, False, False, False, False, False,\n",
       "        False],\n",
       "       [False, False, False, False, False, False, False, False, False,\n",
       "        False],\n",
       "       [ True, False, False, False, False, False, False, False, False,\n",
       "        False],\n",
       "       [ True,  True, False, False, False, False, False, False, False,\n",
       "        False],\n",
       "       [ True, False, False, False, False, False, False, False, False,\n",
       "        False],\n",
       "       [False, False, False, False, False, False, False, False, False,\n",
       "        False],\n",
       "       [False, False, False, False, False, False, False, False, False,\n",
       "        False],\n",
       "       [False, False, False, False, False, False, False, False, False,\n",
       "        False],\n",
       "       [False, False, False, False, False, False, False, False, False,\n",
       "        False],\n",
       "       [False, False, False, False, False, False, False, False, False,\n",
       "        False],\n",
       "       [ True,  True, False, False, False, False, False, False, False,\n",
       "        False],\n",
       "       [ True,  True, False, False, False, False, False, False, False,\n",
       "        False],\n",
       "       [False, False, False, False, False, False, False, False, False,\n",
       "        False],\n",
       "       [False, False, False, False, False, False, False, False, False,\n",
       "        False],\n",
       "       [ True, False, False, False, False, False, False, False, False,\n",
       "        False],\n",
       "       [ True, False, False, False, False, False, False, False, False,\n",
       "        False],\n",
       "       [ True, False, False, False, False, False, False, False, False,\n",
       "        False],\n",
       "       [ True,  True, False, False, False, False, False, False, False,\n",
       "        False],\n",
       "       [ True, False, False, False, False, False, False, False, False,\n",
       "        False],\n",
       "       [ True, False, False, False, False, False, False, False, False,\n",
       "        False],\n",
       "       [False, False, False, False, False, False, False, False, False,\n",
       "        False],\n",
       "       [ True,  True, False, False, False, False, False, False, False,\n",
       "        False],\n",
       "       [ True, False, False, False, False, False, False, False, False,\n",
       "        False],\n",
       "       [ True, False, False, False, False, False, False, False, False,\n",
       "        False],\n",
       "       [ True, False, False, False, False, False, False, False, False,\n",
       "        False],\n",
       "       [False, False, False, False, False, False, False, False, False,\n",
       "        False],\n",
       "       [ True, False, False, False, False, False, False, False, False,\n",
       "        False]])"
      ]
     },
     "execution_count": 73,
     "metadata": {},
     "output_type": "execute_result"
    }
   ],
   "source": [
    "query_result[1]<3914"
   ]
  },
  {
   "cell_type": "code",
   "execution_count": 89,
   "metadata": {},
   "outputs": [],
   "source": [
    "m_array = np.concatenate((np.array(data_dict[\"m\"]),np.array([float(\"nan\")])))"
   ]
  },
  {
   "cell_type": "code",
   "execution_count": 93,
   "metadata": {},
   "outputs": [],
   "source": []
  },
  {
   "cell_type": "code",
   "execution_count": 103,
   "metadata": {},
   "outputs": [],
   "source": [
    "m_neighbours = m_array[query_result[1]]\n",
    "flux_neighbours = 10**(-0.4*m_neighbours)\n",
    "flux_combined = np.nansum(flux_neighbours,axis=1)\n",
    "m_combined = -2.5*np.log10(flux_combined)"
   ]
  },
  {
   "cell_type": "code",
   "execution_count": 101,
   "metadata": {},
   "outputs": [],
   "source": []
  },
  {
   "cell_type": "code",
   "execution_count": 105,
   "metadata": {},
   "outputs": [
    {
     "name": "stderr",
     "output_type": "stream",
     "text": [
      "/home/haeberle/myenv/lib/python3.6/site-packages/ipykernel_launcher.py:1: RuntimeWarning: divide by zero encountered in log10\n",
      "  \"\"\"Entry point for launching an IPython kernel.\n"
     ]
    }
   ],
   "source": []
  },
  {
   "cell_type": "code",
   "execution_count": 106,
   "metadata": {},
   "outputs": [
    {
     "data": {
      "text/plain": [
       "array([15.78925404, 15.86596562,         inf,         inf, 18.51309395,\n",
       "       18.05166519, 17.06689644, 16.45846973, 17.37730389,         inf,\n",
       "               inf, 18.73986434, 18.56551743, 17.06790974, 16.63201608,\n",
       "       17.38640279, 17.39238739, 17.39238739, 15.92890474,         inf,\n",
       "       18.56551743, 17.00412644, 17.39192749,         inf, 17.39238739,\n",
       "               inf, 15.92890474, 15.93924713, 20.57071877, 20.57071877,\n",
       "               inf,         inf,         inf,         inf,         inf,\n",
       "               inf, 20.57071877, 19.84525944, 20.57071877,         inf,\n",
       "               inf,         inf,         inf,         inf, 19.84525944,\n",
       "       19.84525944,         inf,         inf, 19.55805016, 19.55805016,\n",
       "       20.96523094, 20.02964002, 18.05499649, 18.05499649,         inf,\n",
       "       17.46361813, 20.96523094, 20.97484398, 18.05499649,         inf,\n",
       "       17.63406754])"
      ]
     },
     "execution_count": 106,
     "metadata": {},
     "output_type": "execute_result"
    }
   ],
   "source": [
    "m_combined"
   ]
  },
  {
   "cell_type": "code",
   "execution_count": 104,
   "metadata": {},
   "outputs": [
    {
     "data": {
      "text/plain": [
       "array([[4.73061498e-09, 2.82442485e-08, 1.49018924e-07, 3.01397015e-07,\n",
       "                   nan,            nan,            nan,            nan,\n",
       "                   nan,            nan],\n",
       "       [1.49018924e-07, 3.01397015e-07,            nan,            nan,\n",
       "                   nan,            nan,            nan,            nan,\n",
       "                   nan,            nan],\n",
       "       [           nan,            nan,            nan,            nan,\n",
       "                   nan,            nan,            nan,            nan,\n",
       "                   nan,            nan],\n",
       "       [           nan,            nan,            nan,            nan,\n",
       "                   nan,            nan,            nan,            nan,\n",
       "                   nan,            nan],\n",
       "       [3.93334844e-08,            nan,            nan,            nan,\n",
       "                   nan,            nan,            nan,            nan,\n",
       "                   nan,            nan],\n",
       "       [2.82442485e-08, 4.21090218e-09, 2.77084644e-08,            nan,\n",
       "                   nan,            nan,            nan,            nan,\n",
       "                   nan,            nan],\n",
       "       [1.49018924e-07,            nan,            nan,            nan,\n",
       "                   nan,            nan,            nan,            nan,\n",
       "                   nan,            nan],\n",
       "       [1.02021430e-07, 9.94257978e-09, 1.49018924e-07,            nan,\n",
       "                   nan,            nan,            nan,            nan,\n",
       "                   nan,            nan],\n",
       "       [1.02021430e-07, 9.94257978e-09,            nan,            nan,\n",
       "                   nan,            nan,            nan,            nan,\n",
       "                   nan,            nan],\n",
       "       [           nan,            nan,            nan,            nan,\n",
       "                   nan,            nan,            nan,            nan,\n",
       "                   nan,            nan],\n",
       "       [           nan,            nan,            nan,            nan,\n",
       "                   nan,            nan,            nan,            nan,\n",
       "                   nan,            nan],\n",
       "       [4.21090218e-09, 2.77084644e-08,            nan,            nan,\n",
       "                   nan,            nan,            nan,            nan,\n",
       "                   nan,            nan],\n",
       "       [3.74794345e-08,            nan,            nan,            nan,\n",
       "                   nan,            nan,            nan,            nan,\n",
       "                   nan,            nan],\n",
       "       [3.74794345e-08, 9.94257978e-09, 1.01457897e-07,            nan,\n",
       "                   nan,            nan,            nan,            nan,\n",
       "                   nan,            nan],\n",
       "       [9.94257978e-09, 1.01457897e-07, 9.00819770e-09, 1.02021430e-07,\n",
       "                   nan,            nan,            nan,            nan,\n",
       "                   nan,            nan],\n",
       "       [9.00819770e-09, 1.02021430e-07,            nan,            nan,\n",
       "                   nan,            nan,            nan,            nan,\n",
       "                   nan,            nan],\n",
       "       [1.10419314e-07,            nan,            nan,            nan,\n",
       "                   nan,            nan,            nan,            nan,\n",
       "                   nan,            nan],\n",
       "       [1.10419314e-07,            nan,            nan,            nan,\n",
       "                   nan,            nan,            nan,            nan,\n",
       "                   nan,            nan],\n",
       "       [4.02965715e-09, 4.21018469e-07,            nan,            nan,\n",
       "                   nan,            nan,            nan,            nan,\n",
       "                   nan,            nan],\n",
       "       [           nan,            nan,            nan,            nan,\n",
       "                   nan,            nan,            nan,            nan,\n",
       "                   nan,            nan],\n",
       "       [3.74794345e-08,            nan,            nan,            nan,\n",
       "                   nan,            nan,            nan,            nan,\n",
       "                   nan,            nan],\n",
       "       [1.01457897e-07, 3.74794345e-08, 9.00819770e-09, 9.94257978e-09,\n",
       "                   nan,            nan,            nan,            nan,\n",
       "                   nan,            nan],\n",
       "       [9.00819770e-09, 1.01457897e-07,            nan,            nan,\n",
       "                   nan,            nan,            nan,            nan,\n",
       "                   nan,            nan],\n",
       "       [           nan,            nan,            nan,            nan,\n",
       "                   nan,            nan,            nan,            nan,\n",
       "                   nan,            nan],\n",
       "       [1.10419314e-07,            nan,            nan,            nan,\n",
       "                   nan,            nan,            nan,            nan,\n",
       "                   nan,            nan],\n",
       "       [           nan,            nan,            nan,            nan,\n",
       "                   nan,            nan,            nan,            nan,\n",
       "                   nan,            nan],\n",
       "       [4.21018469e-07, 4.02965715e-09,            nan,            nan,\n",
       "                   nan,            nan,            nan,            nan,\n",
       "                   nan,            nan],\n",
       "       [4.21018469e-07,            nan,            nan,            nan,\n",
       "                   nan,            nan,            nan,            nan,\n",
       "                   nan,            nan],\n",
       "       [5.91170146e-09,            nan,            nan,            nan,\n",
       "                   nan,            nan,            nan,            nan,\n",
       "                   nan,            nan],\n",
       "       [5.91170146e-09,            nan,            nan,            nan,\n",
       "                   nan,            nan,            nan,            nan,\n",
       "                   nan,            nan],\n",
       "       [           nan,            nan,            nan,            nan,\n",
       "                   nan,            nan,            nan,            nan,\n",
       "                   nan,            nan],\n",
       "       [           nan,            nan,            nan,            nan,\n",
       "                   nan,            nan,            nan,            nan,\n",
       "                   nan,            nan],\n",
       "       [           nan,            nan,            nan,            nan,\n",
       "                   nan,            nan,            nan,            nan,\n",
       "                   nan,            nan],\n",
       "       [           nan,            nan,            nan,            nan,\n",
       "                   nan,            nan,            nan,            nan,\n",
       "                   nan,            nan],\n",
       "       [           nan,            nan,            nan,            nan,\n",
       "                   nan,            nan,            nan,            nan,\n",
       "                   nan,            nan],\n",
       "       [           nan,            nan,            nan,            nan,\n",
       "                   nan,            nan,            nan,            nan,\n",
       "                   nan,            nan],\n",
       "       [5.91170146e-09,            nan,            nan,            nan,\n",
       "                   nan,            nan,            nan,            nan,\n",
       "                   nan,            nan],\n",
       "       [5.91170146e-09, 5.62007520e-09,            nan,            nan,\n",
       "                   nan,            nan,            nan,            nan,\n",
       "                   nan,            nan],\n",
       "       [5.91170146e-09,            nan,            nan,            nan,\n",
       "                   nan,            nan,            nan,            nan,\n",
       "                   nan,            nan],\n",
       "       [           nan,            nan,            nan,            nan,\n",
       "                   nan,            nan,            nan,            nan,\n",
       "                   nan,            nan],\n",
       "       [           nan,            nan,            nan,            nan,\n",
       "                   nan,            nan,            nan,            nan,\n",
       "                   nan,            nan],\n",
       "       [           nan,            nan,            nan,            nan,\n",
       "                   nan,            nan,            nan,            nan,\n",
       "                   nan,            nan],\n",
       "       [           nan,            nan,            nan,            nan,\n",
       "                   nan,            nan,            nan,            nan,\n",
       "                   nan,            nan],\n",
       "       [           nan,            nan,            nan,            nan,\n",
       "                   nan,            nan,            nan,            nan,\n",
       "                   nan,            nan],\n",
       "       [5.62007520e-09, 5.91170146e-09,            nan,            nan,\n",
       "                   nan,            nan,            nan,            nan,\n",
       "                   nan,            nan],\n",
       "       [5.62007520e-09, 5.91170146e-09,            nan,            nan,\n",
       "                   nan,            nan,            nan,            nan,\n",
       "                   nan,            nan],\n",
       "       [           nan,            nan,            nan,            nan,\n",
       "                   nan,            nan,            nan,            nan,\n",
       "                   nan,            nan],\n",
       "       [           nan,            nan,            nan,            nan,\n",
       "                   nan,            nan,            nan,            nan,\n",
       "                   nan,            nan],\n",
       "       [1.50238050e-08,            nan,            nan,            nan,\n",
       "                   nan,            nan,            nan,            nan,\n",
       "                   nan,            nan],\n",
       "       [1.50238050e-08,            nan,            nan,            nan,\n",
       "                   nan,            nan,            nan,            nan,\n",
       "                   nan,            nan],\n",
       "       [4.11062277e-09,            nan,            nan,            nan,\n",
       "                   nan,            nan,            nan,            nan,\n",
       "                   nan,            nan],\n",
       "       [5.62007520e-09, 4.11062277e-09,            nan,            nan,\n",
       "                   nan,            nan,            nan,            nan,\n",
       "                   nan,            nan],\n",
       "       [5.99793015e-08,            nan,            nan,            nan,\n",
       "                   nan,            nan,            nan,            nan,\n",
       "                   nan,            nan],\n",
       "       [5.99793015e-08,            nan,            nan,            nan,\n",
       "                   nan,            nan,            nan,            nan,\n",
       "                   nan,            nan],\n",
       "       [           nan,            nan,            nan,            nan,\n",
       "                   nan,            nan,            nan,            nan,\n",
       "                   nan,            nan],\n",
       "       [1.50238050e-08, 8.83838643e-08,            nan,            nan,\n",
       "                   nan,            nan,            nan,            nan,\n",
       "                   nan,            nan],\n",
       "       [4.11062277e-09,            nan,            nan,            nan,\n",
       "                   nan,            nan,            nan,            nan,\n",
       "                   nan,            nan],\n",
       "       [4.07438823e-09,            nan,            nan,            nan,\n",
       "                   nan,            nan,            nan,            nan,\n",
       "                   nan,            nan],\n",
       "       [5.99793015e-08,            nan,            nan,            nan,\n",
       "                   nan,            nan,            nan,            nan,\n",
       "                   nan,            nan],\n",
       "       [           nan,            nan,            nan,            nan,\n",
       "                   nan,            nan,            nan,            nan,\n",
       "                   nan,            nan],\n",
       "       [8.83838643e-08,            nan,            nan,            nan,\n",
       "                   nan,            nan,            nan,            nan,\n",
       "                   nan,            nan]])"
      ]
     },
     "execution_count": 104,
     "metadata": {},
     "output_type": "execute_result"
    }
   ],
   "source": [
    "flux_neighbours"
   ]
  },
  {
   "cell_type": "code",
   "execution_count": 102,
   "metadata": {},
   "outputs": [
    {
     "data": {
      "text/plain": [
       "array([4.83390803e-07, 4.50415939e-07, 0.00000000e+00, 0.00000000e+00,\n",
       "       3.93334844e-08, 6.01636150e-08, 1.49018924e-07, 2.60982934e-07,\n",
       "       1.11964010e-07, 0.00000000e+00, 0.00000000e+00, 3.19193665e-08,\n",
       "       3.74794345e-08, 1.48879912e-07, 2.22430105e-07, 1.11029628e-07,\n",
       "       1.10419314e-07, 1.10419314e-07, 4.25048126e-07, 0.00000000e+00,\n",
       "       3.74794345e-08, 1.57888109e-07, 1.10466095e-07, 0.00000000e+00,\n",
       "       1.10419314e-07, 0.00000000e+00, 4.25048126e-07, 4.21018469e-07,\n",
       "       5.91170146e-09, 5.91170146e-09, 0.00000000e+00, 0.00000000e+00,\n",
       "       0.00000000e+00, 0.00000000e+00, 0.00000000e+00, 0.00000000e+00,\n",
       "       5.91170146e-09, 1.15317767e-08, 5.91170146e-09, 0.00000000e+00,\n",
       "       0.00000000e+00, 0.00000000e+00, 0.00000000e+00, 0.00000000e+00,\n",
       "       1.15317767e-08, 1.15317767e-08, 0.00000000e+00, 0.00000000e+00,\n",
       "       1.50238050e-08, 1.50238050e-08, 4.11062277e-09, 9.73069796e-09,\n",
       "       5.99793015e-08, 5.99793015e-08, 0.00000000e+00, 1.03407669e-07,\n",
       "       4.11062277e-09, 4.07438823e-09, 5.99793015e-08, 0.00000000e+00,\n",
       "       8.83838643e-08])"
      ]
     },
     "execution_count": 102,
     "metadata": {},
     "output_type": "execute_result"
    }
   ],
   "source": [
    "flux_combined"
   ]
  },
  {
   "cell_type": "code",
   "execution_count": 95,
   "metadata": {},
   "outputs": [
    {
     "data": {
      "text/plain": [
       "array([73.05443001, 33.36904907,  0.        ,  0.        , 18.51309395,\n",
       "       58.70520592, 17.06689644, 54.55142021, 37.48452377,  0.        ,\n",
       "        0.        , 39.83253098, 18.56551743, 56.05605507, 75.08221436,\n",
       "       37.59167671, 17.39238739, 17.39238739, 36.92607689,  0.        ,\n",
       "       18.56551743, 76.1694603 , 37.59769058,  0.        , 17.39238739,\n",
       "        0.        , 36.92607689, 15.93924713, 20.57071877, 20.57071877,\n",
       "        0.        ,  0.        ,  0.        ,  0.        ,  0.        ,\n",
       "        0.        , 20.57071877, 41.19636345, 20.57071877,  0.        ,\n",
       "        0.        ,  0.        ,  0.        ,  0.        , 41.19636345,\n",
       "       41.19636345,  0.        ,  0.        , 19.55805016, 19.55805016,\n",
       "       20.96523094, 41.59087563, 18.05499649, 18.05499649,  0.        ,\n",
       "       37.19211769, 20.96523094, 20.97484398, 18.05499649,  0.        ,\n",
       "       17.63406754])"
      ]
     },
     "execution_count": 95,
     "metadata": {},
     "output_type": "execute_result"
    }
   ],
   "source": [
    "np.nansum(m_neighbours,axis=1)"
   ]
  },
  {
   "cell_type": "code",
   "execution_count": 84,
   "metadata": {},
   "outputs": [],
   "source": [
    "null_array = np.array([float(\"nan\")])"
   ]
  },
  {
   "cell_type": "code",
   "execution_count": 86,
   "metadata": {},
   "outputs": [
    {
     "data": {
      "text/plain": [
       "(3914,)"
      ]
     },
     "execution_count": 86,
     "metadata": {},
     "output_type": "execute_result"
    }
   ],
   "source": [
    "m_array.shape"
   ]
  },
  {
   "cell_type": "code",
   "execution_count": 88,
   "metadata": {},
   "outputs": [],
   "source": [
    "m_array = np.concatenate((m_array,null_array))"
   ]
  },
  {
   "cell_type": "code",
   "execution_count": 74,
   "metadata": {
    "tags": []
   },
   "outputs": [
    {
     "data": {
      "text/plain": [
       "array([[ 922,  921,  923,  928, 3914, 3914, 3914, 3914, 3914, 3914],\n",
       "       [ 923,  928, 3914, 3914, 3914, 3914, 3914, 3914, 3914, 3914],\n",
       "       [3914, 3914, 3914, 3914, 3914, 3914, 3914, 3914, 3914, 3914],\n",
       "       [3914, 3914, 3914, 3914, 3914, 3914, 3914, 3914, 3914, 3914],\n",
       "       [ 939, 3914, 3914, 3914, 3914, 3914, 3914, 3914, 3914, 3914],\n",
       "       [ 921,  920,  919, 3914, 3914, 3914, 3914, 3914, 3914, 3914],\n",
       "       [ 923, 3914, 3914, 3914, 3914, 3914, 3914, 3914, 3914, 3914],\n",
       "       [ 929,  925,  923, 3914, 3914, 3914, 3914, 3914, 3914, 3914],\n",
       "       [ 929,  925, 3914, 3914, 3914, 3914, 3914, 3914, 3914, 3914],\n",
       "       [3914, 3914, 3914, 3914, 3914, 3914, 3914, 3914, 3914, 3914],\n",
       "       [3914, 3914, 3914, 3914, 3914, 3914, 3914, 3914, 3914, 3914],\n",
       "       [ 920,  919, 3914, 3914, 3914, 3914, 3914, 3914, 3914, 3914],\n",
       "       [ 924, 3914, 3914, 3914, 3914, 3914, 3914, 3914, 3914, 3914],\n",
       "       [ 924,  925,  927, 3914, 3914, 3914, 3914, 3914, 3914, 3914],\n",
       "       [ 925,  927,  926,  929, 3914, 3914, 3914, 3914, 3914, 3914],\n",
       "       [ 926,  929, 3914, 3914, 3914, 3914, 3914, 3914, 3914, 3914],\n",
       "       [ 935, 3914, 3914, 3914, 3914, 3914, 3914, 3914, 3914, 3914],\n",
       "       [ 935, 3914, 3914, 3914, 3914, 3914, 3914, 3914, 3914, 3914],\n",
       "       [ 724,  725, 3914, 3914, 3914, 3914, 3914, 3914, 3914, 3914],\n",
       "       [3914, 3914, 3914, 3914, 3914, 3914, 3914, 3914, 3914, 3914],\n",
       "       [ 924, 3914, 3914, 3914, 3914, 3914, 3914, 3914, 3914, 3914],\n",
       "       [ 927,  924,  926,  925, 3914, 3914, 3914, 3914, 3914, 3914],\n",
       "       [ 926,  927, 3914, 3914, 3914, 3914, 3914, 3914, 3914, 3914],\n",
       "       [3914, 3914, 3914, 3914, 3914, 3914, 3914, 3914, 3914, 3914],\n",
       "       [ 935, 3914, 3914, 3914, 3914, 3914, 3914, 3914, 3914, 3914],\n",
       "       [3914, 3914, 3914, 3914, 3914, 3914, 3914, 3914, 3914, 3914],\n",
       "       [ 725,  724, 3914, 3914, 3914, 3914, 3914, 3914, 3914, 3914],\n",
       "       [ 725, 3914, 3914, 3914, 3914, 3914, 3914, 3914, 3914, 3914],\n",
       "       [ 726, 3914, 3914, 3914, 3914, 3914, 3914, 3914, 3914, 3914],\n",
       "       [ 726, 3914, 3914, 3914, 3914, 3914, 3914, 3914, 3914, 3914],\n",
       "       [3914, 3914, 3914, 3914, 3914, 3914, 3914, 3914, 3914, 3914],\n",
       "       [3914, 3914, 3914, 3914, 3914, 3914, 3914, 3914, 3914, 3914],\n",
       "       [3914, 3914, 3914, 3914, 3914, 3914, 3914, 3914, 3914, 3914],\n",
       "       [3914, 3914, 3914, 3914, 3914, 3914, 3914, 3914, 3914, 3914],\n",
       "       [3914, 3914, 3914, 3914, 3914, 3914, 3914, 3914, 3914, 3914],\n",
       "       [3914, 3914, 3914, 3914, 3914, 3914, 3914, 3914, 3914, 3914],\n",
       "       [ 726, 3914, 3914, 3914, 3914, 3914, 3914, 3914, 3914, 3914],\n",
       "       [ 726,  735, 3914, 3914, 3914, 3914, 3914, 3914, 3914, 3914],\n",
       "       [ 726, 3914, 3914, 3914, 3914, 3914, 3914, 3914, 3914, 3914],\n",
       "       [3914, 3914, 3914, 3914, 3914, 3914, 3914, 3914, 3914, 3914],\n",
       "       [3914, 3914, 3914, 3914, 3914, 3914, 3914, 3914, 3914, 3914],\n",
       "       [3914, 3914, 3914, 3914, 3914, 3914, 3914, 3914, 3914, 3914],\n",
       "       [3914, 3914, 3914, 3914, 3914, 3914, 3914, 3914, 3914, 3914],\n",
       "       [3914, 3914, 3914, 3914, 3914, 3914, 3914, 3914, 3914, 3914],\n",
       "       [ 735,  726, 3914, 3914, 3914, 3914, 3914, 3914, 3914, 3914],\n",
       "       [ 735,  726, 3914, 3914, 3914, 3914, 3914, 3914, 3914, 3914],\n",
       "       [3914, 3914, 3914, 3914, 3914, 3914, 3914, 3914, 3914, 3914],\n",
       "       [3914, 3914, 3914, 3914, 3914, 3914, 3914, 3914, 3914, 3914],\n",
       "       [ 931, 3914, 3914, 3914, 3914, 3914, 3914, 3914, 3914, 3914],\n",
       "       [ 931, 3914, 3914, 3914, 3914, 3914, 3914, 3914, 3914, 3914],\n",
       "       [ 732, 3914, 3914, 3914, 3914, 3914, 3914, 3914, 3914, 3914],\n",
       "       [ 735,  732, 3914, 3914, 3914, 3914, 3914, 3914, 3914, 3914],\n",
       "       [ 736, 3914, 3914, 3914, 3914, 3914, 3914, 3914, 3914, 3914],\n",
       "       [ 736, 3914, 3914, 3914, 3914, 3914, 3914, 3914, 3914, 3914],\n",
       "       [3914, 3914, 3914, 3914, 3914, 3914, 3914, 3914, 3914, 3914],\n",
       "       [ 931,  930, 3914, 3914, 3914, 3914, 3914, 3914, 3914, 3914],\n",
       "       [ 732, 3914, 3914, 3914, 3914, 3914, 3914, 3914, 3914, 3914],\n",
       "       [ 734, 3914, 3914, 3914, 3914, 3914, 3914, 3914, 3914, 3914],\n",
       "       [ 736, 3914, 3914, 3914, 3914, 3914, 3914, 3914, 3914, 3914],\n",
       "       [3914, 3914, 3914, 3914, 3914, 3914, 3914, 3914, 3914, 3914],\n",
       "       [ 930, 3914, 3914, 3914, 3914, 3914, 3914, 3914, 3914, 3914]])"
      ]
     },
     "execution_count": 74,
     "metadata": {},
     "output_type": "execute_result"
    }
   ],
   "source": [
    "query_result[1]"
   ]
  },
  {
   "cell_type": "code",
   "execution_count": 75,
   "metadata": {},
   "outputs": [
    {
     "data": {
      "text/plain": [
       "array([922, 921, 923, 928, 923, 928, 939, 921, 920, 919, 923, 929, 925,\n",
       "       923, 929, 925, 920, 919, 924, 924, 925, 927, 925, 927, 926, 929,\n",
       "       926, 929, 935, 935, 724, 725, 924, 927, 924, 926, 925, 926, 927,\n",
       "       935, 725, 724, 725, 726, 726, 726, 726, 735, 726, 735, 726, 735,\n",
       "       726, 931, 931, 732, 735, 732, 736, 736, 931, 930, 732, 734, 736,\n",
       "       930])"
      ]
     },
     "execution_count": 75,
     "metadata": {},
     "output_type": "execute_result"
    }
   ],
   "source": [
    "query_result[1][query_result[1]<3914]"
   ]
  },
  {
   "cell_type": "code",
   "execution_count": null,
   "metadata": {},
   "outputs": [],
   "source": []
  },
  {
   "cell_type": "code",
   "execution_count": 76,
   "metadata": {},
   "outputs": [
    {
     "data": {
      "text/html": [
       "&lt;MaskedColumn name=&apos;phot_g_mean_mag&apos; dtype=&apos;float32&apos; unit=&apos;mag&apos; description=&apos;G-band mean magnitude&apos; length=66&gt;\n",
       "<table>\n",
       "<tr><td>20.812706</td></tr>\n",
       "<tr><td>18.872675</td></tr>\n",
       "<tr><td>17.066896</td></tr>\n",
       "<tr><td>16.302153</td></tr>\n",
       "<tr><td>17.066896</td></tr>\n",
       "<tr><td>16.302153</td></tr>\n",
       "<tr><td>18.513094</td></tr>\n",
       "<tr><td>18.872675</td></tr>\n",
       "<tr><td>20.939062</td></tr>\n",
       "<tr><td>18.893469</td></tr>\n",
       "<tr><td>17.066896</td></tr>\n",
       "<tr><td>17.478271</td></tr>\n",
       "<tr><td>...</td></tr>\n",
       "<tr><td>19.55805</td></tr>\n",
       "<tr><td>20.96523</td></tr>\n",
       "<tr><td>20.625645</td></tr>\n",
       "<tr><td>20.96523</td></tr>\n",
       "<tr><td>18.054996</td></tr>\n",
       "<tr><td>18.054996</td></tr>\n",
       "<tr><td>19.55805</td></tr>\n",
       "<tr><td>17.634068</td></tr>\n",
       "<tr><td>20.96523</td></tr>\n",
       "<tr><td>20.974844</td></tr>\n",
       "<tr><td>18.054996</td></tr>\n",
       "<tr><td>17.634068</td></tr>\n",
       "</table>"
      ],
      "text/plain": [
       "<MaskedColumn name='phot_g_mean_mag' dtype='float32' unit='mag' description='G-band mean magnitude' length=66>\n",
       "20.812706\n",
       "18.872675\n",
       "17.066896\n",
       "16.302153\n",
       "17.066896\n",
       "16.302153\n",
       "18.513094\n",
       "18.872675\n",
       "20.939062\n",
       "18.893469\n",
       "17.066896\n",
       "17.478271\n",
       "      ...\n",
       " 19.55805\n",
       " 20.96523\n",
       "20.625645\n",
       " 20.96523\n",
       "18.054996\n",
       "18.054996\n",
       " 19.55805\n",
       "17.634068\n",
       " 20.96523\n",
       "20.974844\n",
       "18.054996\n",
       "17.634068"
      ]
     },
     "execution_count": 76,
     "metadata": {},
     "output_type": "execute_result"
    }
   ],
   "source": [
    "data_dict[\"m\"][query_result[1][query_result[1]<3914]]"
   ]
  },
  {
   "cell_type": "code",
   "execution_count": 109,
   "metadata": {},
   "outputs": [
    {
     "data": {
      "text/plain": [
       "array([20.81270599, 17.06689644,         inf,         inf,         inf,\n",
       "       18.87267494, 17.06689644,         inf, 17.47827148,         inf,\n",
       "               inf,         inf,         inf, 18.56551743, 17.38278237,\n",
       "               inf,         inf, 17.39238739, 20.98682976,         inf,\n",
       "               inf,         inf, 20.11340523,         inf,         inf,\n",
       "               inf,         inf, 15.93924713,         inf,         inf,\n",
       "               inf,         inf,         inf,         inf,         inf,\n",
       "               inf,         inf, 20.57071877,         inf,         inf,\n",
       "               inf,         inf,         inf,         inf,         inf,\n",
       "       20.62564468,         inf,         inf, 19.55805016,         inf,\n",
       "               inf,         inf,         inf, 18.05499649,         inf,\n",
       "               inf, 20.96523094,         inf,         inf,         inf,\n",
       "               inf])"
      ]
     },
     "execution_count": 109,
     "metadata": {},
     "output_type": "execute_result"
    }
   ],
   "source": [
    "m_combined"
   ]
  },
  {
   "cell_type": "code",
   "execution_count": 110,
   "metadata": {},
   "outputs": [
    {
     "data": {
      "text/plain": [
       "array([[20.81270599,         nan],\n",
       "       [17.06689644,         nan],\n",
       "       [        nan,         nan],\n",
       "       [        nan,         nan],\n",
       "       [        nan,         nan],\n",
       "       [18.87267494,         nan],\n",
       "       [17.06689644,         nan],\n",
       "       [        nan,         nan],\n",
       "       [17.47827148,         nan],\n",
       "       [        nan,         nan],\n",
       "       [        nan,         nan],\n",
       "       [        nan,         nan],\n",
       "       [        nan,         nan],\n",
       "       [18.56551743,         nan],\n",
       "       [20.00625229, 17.48428535],\n",
       "       [        nan,         nan],\n",
       "       [        nan,         nan],\n",
       "       [17.39238739,         nan],\n",
       "       [20.98682976,         nan],\n",
       "       [        nan,         nan],\n",
       "       [        nan,         nan],\n",
       "       [        nan,         nan],\n",
       "       [20.11340523,         nan],\n",
       "       [        nan,         nan],\n",
       "       [        nan,         nan],\n",
       "       [        nan,         nan],\n",
       "       [        nan,         nan],\n",
       "       [15.93924713,         nan],\n",
       "       [        nan,         nan],\n",
       "       [        nan,         nan],\n",
       "       [        nan,         nan],\n",
       "       [        nan,         nan],\n",
       "       [        nan,         nan],\n",
       "       [        nan,         nan],\n",
       "       [        nan,         nan],\n",
       "       [        nan,         nan],\n",
       "       [        nan,         nan],\n",
       "       [20.57071877,         nan],\n",
       "       [        nan,         nan],\n",
       "       [        nan,         nan],\n",
       "       [        nan,         nan],\n",
       "       [        nan,         nan],\n",
       "       [        nan,         nan],\n",
       "       [        nan,         nan],\n",
       "       [        nan,         nan],\n",
       "       [20.62564468,         nan],\n",
       "       [        nan,         nan],\n",
       "       [        nan,         nan],\n",
       "       [19.55805016,         nan],\n",
       "       [        nan,         nan],\n",
       "       [        nan,         nan],\n",
       "       [        nan,         nan],\n",
       "       [        nan,         nan],\n",
       "       [18.05499649,         nan],\n",
       "       [        nan,         nan],\n",
       "       [        nan,         nan],\n",
       "       [20.96523094,         nan],\n",
       "       [        nan,         nan],\n",
       "       [        nan,         nan],\n",
       "       [        nan,         nan],\n",
       "       [        nan,         nan]])"
      ]
     },
     "execution_count": 110,
     "metadata": {},
     "output_type": "execute_result"
    }
   ],
   "source": [
    "m_neighbours[:,:2]"
   ]
  },
  {
   "cell_type": "code",
   "execution_count": 107,
   "metadata": {},
   "outputs": [
    {
     "name": "stderr",
     "output_type": "stream",
     "text": [
      "/home/haeberle/myenv/lib/python3.6/site-packages/ipykernel_launcher.py:17: RuntimeWarning: divide by zero encountered in log10\n"
     ]
    },
    {
     "name": "stdout",
     "output_type": "stream",
     "text": [
      "Neighbour search took 0.0028s\n",
      "16 of 61 (26.2%) fibers are contaminated with stars brighter 21 gmag\n"
     ]
    },
    {
     "data": {
      "image/png": "[encoded data removed]",
      "text/plain": [
       "<Figure size 1440x864 with 2 Axes>"
      ]
     },
     "metadata": {
      "needs_background": "light"
     },
     "output_type": "display_data"
    }
   ],
   "source": [
    "use_tree = True\n",
    "plotflag = True\n",
    "\n",
    "use_forloop = True\n",
    "\n",
    "time0 = time.time()\n",
    "contaminated = np.array(my_ifu.lensx) < -999\n",
    "\n",
    "if use_forloop:\n",
    "    query_result = YourTreeName.query(ifu_point_list, k=nmax, distance_upper_bound=lens_radii[0])#\n",
    "    \n",
    "    contaminated = np.isfinite(query_result[0][:,0])\n",
    "    \n",
    "    m_neighbours = m_array[query_result[1]]\n",
    "    flux_neighbours = 10**(-0.4*m_neighbours)\n",
    "    flux_combined = np.nansum(flux_neighbours,axis=1)\n",
    "    m_combined = -2.5*np.log10(flux_combined)\n",
    "    \n",
    "    \n",
    "else:\n",
    "\n",
    "    for i in range(len(my_ifu.lensx)):\n",
    "        current_x = my_ifu.lensx[i]\n",
    "        current_y = my_ifu.lensy[i]\n",
    "        current_r = lens_radii[i]\n",
    "        if use_tree:\n",
    "            query_result = YourTreeName.query((current_x,current_y), k=nmax, distance_upper_bound=current_r)#\n",
    "            x_neighbours = data_dict[\"x\"][query_result[1][np.isfinite(query_result[0])]]\n",
    "            y_neighbours = data_dict[\"y\"][query_result[1][np.isfinite(query_result[0])]]\n",
    "            m_neighbours = data_dict[\"m\"][query_result[1][np.isfinite(query_result[0])]]\n",
    "\n",
    "            #print(\"Fiber Nr.: {:3d} Nneighbours: {:3d}\".format(i,len(m_neighbours)))\n",
    "            if len(m_neighbours)>0:\n",
    "                contaminated[i]=True\n",
    "        else:\n",
    "            d2 = (current_x-dd_x_mm[selection_mag])**2+(current_y-dd_y_mm[selection_mag])**2\n",
    "            if d2.min() < current_r**2:\n",
    "                contaminated[i]=True\n",
    "\n",
    "        \n",
    "            \n",
    "time1 = time.time()\n",
    "\n",
    "print(\"Neighbour search took {:6.2}s\".format(time1-time0))\n",
    "print(\"{} of {} ({:.1f}%) fibers are contaminated with stars brighter {} gmag\".format(np.sum(contaminated),len(contaminated),100*np.sum(contaminated)/len(contaminated),second_stage_mag_lim))\n",
    "\n",
    "\n",
    "\n",
    "if plotflag:\n",
    "    fig,(ax1,ax2) = plt.subplots(figsize=(20,12),ncols=2)\n",
    "    fig.suptitle(\"Pointing Coordinates:\\nRA: {:.6f}\\nDEC: {:.6f}\\n\\nMag. Lim: {} gmag\".format(c.ra,c.dec,second_stage_mag_lim))\n",
    "    ax1.set_title(\"Full focal plane\\nN Sources: {}\".format(len(dd_x_mm)))\n",
    "\n",
    "\n",
    "    ax1.set_xlabel(\"Focal plane x [mm]\")\n",
    "    ax1.set_ylabel(\"Focal plane y [mm]\")\n",
    "    ax2.set_xlabel(\"Focal plane x [mm]\")\n",
    "    ax2.set_ylabel(\"Focal plane y [mm]\")\n",
    "\n",
    "    ax1.plot(dd_x_mm,dd_y_mm,\"ko\",ms=1)\n",
    "    ax1.plot(my_ifu.lensx,my_ifu.lensy,\"bo\",ms=1)\n",
    "    ax1.plot(np.array(my_ifu.lensx)[contaminated],np.array(my_ifu.lensy)[contaminated],\"ro\",ms=1)\n",
    "    ax1.set_aspect(\"equal\")\n",
    "\n",
    "\n",
    "    ax2.set_xlim(-8,8)\n",
    "    ax2.set_ylim(-8,8)\n",
    "    ax2.set_aspect(\"equal\")\n",
    "\n",
    "    patches = [plt.Circle(center, size) for center, size in zip(np.stack((my_ifu.lensx,my_ifu.lensy),axis=1),lens_radii)]\n",
    "\n",
    "    patches_contaminated = [plt.Circle(center,size) for center, size in zip(np.stack((np.array(my_ifu.lensx)[contaminated],np.array(my_ifu.lensy)[contaminated]),axis=1),lens_radii[contaminated])]\n",
    "\n",
    "\n",
    "    #\n",
    "    coll = matplotlib.collections.PatchCollection(patches, facecolors='none',edgecolor=\"b\")\n",
    "    coll2 = matplotlib.collections.PatchCollection(patches_contaminated, facecolors='r',alpha=0.5)\n",
    "    ax2.add_collection(coll)\n",
    "    ax2.add_collection(coll2)\n",
    "\n",
    "    ax2.plot(dd_x_mm,dd_y_mm,\"ko\",ms=2)\n",
    "    #ax2.plot(dd_x_mm[selection_mag],dd_y_mm[selection_mag],\"ko\",ms=4)\n",
    "\n",
    "\n",
    "    ax2.set_title(\"IFU\\n{} of {} ({:.1f}%) fibers are contaminated with stars brighter {} gmag\".format(np.sum(contaminated),len(contaminated),100*np.sum(contaminated)/len(contaminated),second_stage_mag_lim))\n",
    "\n",
    "    circle = plt.Circle((-7,7),current_r,facecolor=\"none\",edgecolor=\"b\",alpha=0.5)\n",
    "    ax2.add_patch(circle)\n",
    "    circle = plt.Circle((-7,6.5),current_r,facecolor=\"r\",alpha=0.5)\n",
    "    ax2.add_patch(circle)\n",
    "    ax2.text(-6.5,7,\"Star-free Fiber\")#.format(maglim))\n",
    "    ax2.text(-6.5,6.5,\"Contaminated Fiber\")#.format(maglim))\n",
    "\n",
    "\n",
    "\n",
    "\n",
    "\n",
    "\n",
    "#fig.savefig(\"dark_patch_stellar_contamination.png\",dpi=200,bbox_inches=\"tight\",facecolor=\"w\")"
   ]
  },
  {
   "cell_type": "markdown",
   "metadata": {},
   "source": [
    "## Check also the guide chips for the chosen pointing"
   ]
  },
  {
   "cell_type": "code",
   "execution_count": 10,
   "metadata": {},
   "outputs": [
    {
     "name": "stdout",
     "output_type": "stream",
     "text": [
      "PA:  0\n",
      "56  stars on guide chip.\n",
      "\n",
      "PA:  60\n",
      "71  stars on guide chip.\n",
      "\n",
      "PA:  120\n",
      "83  stars on guide chip.\n",
      "\n",
      "PA:  180\n",
      "69  stars on guide chip.\n",
      "\n",
      "PA:  240\n",
      "67  stars on guide chip.\n",
      "\n",
      "PA:  300\n",
      "84  stars on guide chip.\n",
      "\n"
     ]
    },
    {
     "data": {
      "image/png": "[encoded data removed]",
      "text/plain": [
       "<Figure size 864x864 with 1 Axes>"
      ]
     },
     "metadata": {
      "needs_background": "light"
     },
     "output_type": "display_data"
    }
   ],
   "source": [
    "color_array=[\"r\",\"g\",\"b\",\"r\",\"g\",\"b\"]\n",
    "\n",
    "\n",
    "fig,ax = plt.subplots(figsize=(12,12))\n",
    "\n",
    "for index,pa in enumerate([0,60,120,180,240,300]):\n",
    "        print(\"PA: \",pa)\n",
    "        #if pa==0:\n",
    "        #    culled_cat=lvmguiding.cat_full\n",
    "        ras,decs,dd_x_mm,dd_y_mm,chip_xxs,chip_yys,mags,culled_cat = lvmguiding.find_guide_stars(c,pa=pa,plotflag=False,recycled_cat=culled_cat,inst=my_instrument)\n",
    "        print(len(chip_xxs), \" stars on guide chip.\")\n",
    "        print()\n",
    "        if pa==0:\n",
    "            ax.plot(culled_cat[\"ra\"],culled_cat[\"dec\"],\"k.\",ms=1)\n",
    "        ax.plot(ras,decs,\".\",c=color_array[index],label=\"PA = \"+str(pa)+\" deg\")\n",
    "        \n",
    "ax.legend()\n",
    "\n",
    "ax.set_xlabel(\"RA [deg]\")\n",
    "ax.set_ylabel(\"DEC [deg]\")\n",
    "ax.invert_xaxis()"
   ]
  },
  {
   "cell_type": "markdown",
   "metadata": {},
   "source": [
    "## Save IFUs in a textfile for temporary stand alone version:"
   ]
  },
  {
   "cell_type": "code",
   "execution_count": null,
   "metadata": {},
   "outputs": [],
   "source": [
    "output = np.stack((my_ifu.lensx,my_ifu.lensy,lens_radii),axis=1)"
   ]
  },
  {
   "cell_type": "code",
   "execution_count": null,
   "metadata": {},
   "outputs": [],
   "source": [
    "output.shape"
   ]
  },
  {
   "cell_type": "code",
   "execution_count": null,
   "metadata": {},
   "outputs": [],
   "source": [
    "np.savetxt(\"ifu_positions.xyr\",output,fmt=\"%12.4f\")"
   ]
  },
  {
   "cell_type": "code",
   "execution_count": null,
   "metadata": {},
   "outputs": [],
   "source": [
    "https://wiki.sdss.org/pages/viewpage.action?spaceKey=LVM&title=GeoCoronal+Emission"
   ]
  }
 ],
 "metadata": {
  "kernelspec": {
   "display_name": "Python 3",
   "language": "python",
   "name": "python3"
  },
  "language_info": {
   "codemirror_mode": {
    "name": "ipython",
    "version": 3
   },
   "file_extension": ".py",
   "mimetype": "text/x-python",
   "name": "python",
   "nbconvert_exporter": "python",
   "pygments_lexer": "ipython3",
   "version": "3.6.8"
  }
 },
 "nbformat": 4,
 "nbformat_minor": 4
}
