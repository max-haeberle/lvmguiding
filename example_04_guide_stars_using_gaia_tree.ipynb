{
 "cells": [
  {
   "cell_type": "markdown",
   "metadata": {
    "tags": []
   },
   "source": [
    "# LVM Guide Star Catalog using the new library"
   ]
  },
  {
   "cell_type": "code",
   "execution_count": null,
   "metadata": {},
   "outputs": [],
   "source": [
    "import lvmguiding\n",
    "import numpy as np\n",
    "import os\n",
    "import matplotlib.pyplot as plt\n",
    "import time\n",
    "from astropy.coordinates import SkyCoord\n",
    "from importlib import reload\n",
    "from matplotlib.colors import LogNorm\n",
    "import healpy as hp\n",
    "from astropy.io import fits"
   ]
  },
  {
   "cell_type": "code",
   "execution_count": null,
   "metadata": {},
   "outputs": [],
   "source": [
    "def get_cat_using_healpix(c,plotflag=False):\n",
    "    vec = hp.ang2vec(np.deg2rad(c.dec.value+90),np.deg2rad(c.ra.value))\n",
    "\n",
    "    ipix_disc = hp.query_disc(nside=64, vec=vec, radius=np.deg2rad(0.7),inclusive=True)\n",
    "    print(ipix_disc)\n",
    "\n",
    "    if plotflag:\n",
    "        fig,ax = plt.subplots(figsize=(12,12))\n",
    "        ax.set_aspect(\"equal\")\n",
    "\n",
    "\n",
    "    counter=0\n",
    "    for ipix in ipix_disc:\n",
    "        filename = \"Gaia_Healpix_64/{:06d}.fits\".format(ipix)\n",
    "\n",
    "        hdul = fits.open(filename)\n",
    "        data= Table(hdul[1].data)\n",
    "        print(filename,len(data))\n",
    "        #data = data.filled()\n",
    "        if plotflag:\n",
    "            ax.plot(data[\"ra\"],data[\"dec\"],\".\",alpha=0.5)\n",
    "        if counter==0:\n",
    "            data_combined = data\n",
    "            counter+=1\n",
    "        else:\n",
    "            data_combined = vstack([data_combined, data])\n",
    "    return data_combined\n"
   ]
  },
  {
   "cell_type": "code",
   "execution_count": null,
   "metadata": {},
   "outputs": [],
   "source": [
    "def get_cat_using_healpix2(c,plotflag=False):\n",
    "    vec = hp.ang2vec(np.deg2rad(c.dec.value+90),np.deg2rad(c.ra.value))\n",
    "\n",
    "    ipix_disc = hp.query_disc(nside=64, vec=vec, radius=np.deg2rad(0.7),inclusive=True)\n",
    "    print(ipix_disc)\n",
    "\n",
    "    if plotflag:\n",
    "        fig,ax = plt.subplots(figsize=(12,12))\n",
    "        ax.set_aspect(\"equal\")\n",
    "\n",
    "\n",
    "    counter=0\n",
    "    for ipix in ipix_disc:\n",
    "        filename = \"Gaia_Healpix_64/{:06d}.fits\".format(ipix)\n",
    "\n",
    "        hdul = fits.open(filename)\n",
    "        data= Table(hdul[1].data)\n",
    "        print(filename,len(data))\n",
    "        #data = data.filled()\n",
    "        if plotflag:\n",
    "            ax.plot(data[\"ra\"],data[\"dec\"],\".\",alpha=0.5)\n",
    "        if counter==0:\n",
    "            data_combined = data\n",
    "            counter+=1\n",
    "        else:\n",
    "            data_combined = vstack([data_combined, data])\n",
    "    return data_combined"
   ]
  },
  {
   "cell_type": "code",
   "execution_count": null,
   "metadata": {},
   "outputs": [],
   "source": [
    "lvmguiding.cat_full.shape"
   ]
  },
  {
   "cell_type": "code",
   "execution_count": null,
   "metadata": {},
   "outputs": [],
   "source": []
  },
  {
   "cell_type": "code",
   "execution_count": null,
   "metadata": {},
   "outputs": [],
   "source": []
  },
  {
   "cell_type": "code",
   "execution_count": null,
   "metadata": {},
   "outputs": [],
   "source": []
  },
  {
   "cell_type": "code",
   "execution_count": null,
   "metadata": {},
   "outputs": [],
   "source": []
  },
  {
   "cell_type": "code",
   "execution_count": null,
   "metadata": {},
   "outputs": [],
   "source": [
    "\n",
    "ipix = 1000\n",
    "test_data = np.load(\"Gaia_Healpix_6/lvl6_{:06d}.npy\".format(ipix))\n",
    "\n",
    "central_pixel = hp.pix2ang(nside=2**6,ipix=ipix,nest=True)\n",
    "\n",
    "pix_ra = np.rad2deg(central_pixel[1])\n",
    "pix_dec = -np.rad2deg(central_pixel[0])+90\n",
    "\n",
    "print(\"RA: {:.4f}   DEC: {:.4f}\".format(pix_ra,pix_dec))\n",
    "fig,ax = plt.subplots()\n",
    "ax.plot(test_data[\"ra\"],test_data[\"dec\"],\"k.\")\n",
    "ax.axhline(pix_dec)\n",
    "ax.axvline(pix_ra)\n",
    "\n",
    "#np.rad2deg(hp.pix2ang(nside=2**6,ipix=1,nest=True))"
   ]
  },
  {
   "cell_type": "code",
   "execution_count": null,
   "metadata": {},
   "outputs": [],
   "source": []
  },
  {
   "cell_type": "code",
   "execution_count": null,
   "metadata": {},
   "outputs": [],
   "source": []
  },
  {
   "cell_type": "markdown",
   "metadata": {},
   "source": [
    "## Creating the pointing list"
   ]
  },
  {
   "cell_type": "code",
   "execution_count": null,
   "metadata": {},
   "outputs": [],
   "source": [
    "!pwd"
   ]
  },
  {
   "cell_type": "markdown",
   "metadata": {},
   "source": [
    "## Making some example plots"
   ]
  },
  {
   "cell_type": "code",
   "execution_count": null,
   "metadata": {},
   "outputs": [],
   "source": [
    "#What is going on at <SkyCoord (ICRS): (ra, dec) in deg\n",
    "#    (80.01870621, -68.35233157)>\n",
    "\n",
    "coordinates_crowded = SkyCoord(270.48085943, -28.45945724,unit=\"deg\")\n",
    "coordinates_median = SkyCoord(195.10462204, -55.248677,unit=\"deg\")\n",
    "coordinates_empty = SkyCoord(184.18604651, 15.16853933,unit=\"deg\")\n",
    "\n",
    "c = coordinates_empty\n"
   ]
  },
  {
   "cell_type": "code",
   "execution_count": null,
   "metadata": {},
   "outputs": [],
   "source": [
    "from astropy.table import Table, hstack, vstack"
   ]
  },
  {
   "cell_type": "code",
   "execution_count": null,
   "metadata": {},
   "outputs": [],
   "source": [
    "from importlib import reload "
   ]
  },
  {
   "cell_type": "code",
   "execution_count": null,
   "metadata": {
    "tags": []
   },
   "outputs": [],
   "source": [
    "reload(lvmguiding)"
   ]
  },
  {
   "cell_type": "code",
   "execution_count": null,
   "metadata": {},
   "outputs": [],
   "source": [
    "t0 = time.time()\n",
    "data_combined = lvmguiding.get_cat_using_healpix(c,plotflag=True)\n",
    "ras,decs,dd_x_mm,dd_y_mm,chip_xxs,chip_yys,mags,culled_cat = lvmguiding.find_guide_stars(c,pa=0,recycled_cat=data_combined)\n",
    "t1 = time.time()\n",
    "print()\n",
    "print(\"Duration using healpix preselection: {:.4f} s\".format(t1-t0))\n",
    "print()\n",
    "\n",
    "t0 = time.time()\n",
    "data_combined = lvmguiding.get_cat_using_healpix2(c,plotflag=True)\n",
    "ras,decs,dd_x_mm,dd_y_mm,chip_xxs,chip_yys,mags,culled_cat = lvmguiding.find_guide_stars(c,pa=0,recycled_cat=data_combined)\n",
    "t1 = time.time()\n",
    "print()\n",
    "print(\"Duration using healpix preselection 2: {:.4f} s\".format(t1-t0))\n",
    "print()\n",
    "\n",
    "\n",
    "\n",
    "\n",
    "t0 = time.time()\n",
    "#data_combined = get_cat_using_healpix(c)\n",
    "ras,decs,dd_x_mm,dd_y_mm,chip_xxs,chip_yys,mags,culled_cat = lvmguiding.find_guide_stars(c,pa=0,plotflag=False)\n",
    "t1 = time.time()\n",
    "print()\n",
    "print(\"Duration using full Gaia cat: {:.4f} s\".format(t1-t0))"
   ]
  },
  {
   "cell_type": "code",
   "execution_count": null,
   "metadata": {},
   "outputs": [],
   "source": [
    "len(data_combined)"
   ]
  },
  {
   "cell_type": "code",
   "execution_count": null,
   "metadata": {
    "tags": []
   },
   "outputs": [],
   "source": [
    "\n",
    "print(c)\n",
    "color_array=[\"r\",\"g\",\"b\",\"r\",\"g\",\"b\"]\n",
    "\n",
    "\n",
    "fig,ax = plt.subplots(figsize=(12,12))\n",
    "\n",
    "ax.plot(data_combined[\"ra\"],data_combined[\"dec\"],\"c.\",ms=1)\n",
    "\n",
    "for index,pa in enumerate([0,60,120,180,240,300]):\n",
    "        print(\"PA: \",pa)\n",
    "        if pa==0:\n",
    "            print(\"Using the full cat for the first position\")\n",
    "            culled_cat=lvmguiding.cat_full\n",
    "        ras,decs,dd_x_mm,dd_y_mm,chip_xxs,chip_yys,mags,culled_cat = lvmguiding.find_guide_stars(c,pa=pa,plotflag=False,recycled_cat=data_combined)\n",
    "        \n",
    "        if pa==0:\n",
    "            ax.plot(culled_cat[\"ra\"],culled_cat[\"dec\"],\"k.\",ms=1)\n",
    "        ax.plot(ras,decs,\".\",c=color_array[index],label=\"PA = \"+str(pa)+\" deg\")\n",
    "        \n",
    "ax.legend()\n",
    "\n",
    "ax.set_xlabel(\"RA [deg]\")\n",
    "ax.set_ylabel(\"DEC [deg]\")\n",
    "ax.invert_xaxis()\n",
    "\n",
    "#fig.savefig(\"/home/haeberle/exchange/lvm/report/position_angles.png\",bbox_inches=\"tight\",facecolor=\"w\",edgecolor=\"w\",dpi=200)"
   ]
  },
  {
   "cell_type": "markdown",
   "metadata": {},
   "source": [
    "## Create a synthetic image"
   ]
  },
  {
   "cell_type": "code",
   "execution_count": null,
   "metadata": {},
   "outputs": [],
   "source": [
    "ras,decs,dd_x_mm,dd_y_mm,chip_xxs,chip_yys,mags,culled_cat = lvmguiding.find_guide_stars(c,pa=0,plotflag=False)"
   ]
  },
  {
   "cell_type": "code",
   "execution_count": null,
   "metadata": {},
   "outputs": [],
   "source": [
    "standard_instrument = lvmguiding.InstrumentParameters()"
   ]
  },
  {
   "cell_type": "code",
   "execution_count": null,
   "metadata": {},
   "outputs": [],
   "source": [
    "my_image = lvmguiding.make_synthetic_image(chip_x=chip_xxs,\n",
    "                                           chip_y=chip_yys,\n",
    "                                          gmag=mags,\n",
    "                                          inst =standard_instrument,\n",
    "                                          exp_time=5,\n",
    "                                          seeing_arcsec=3.5,\n",
    "                                          sky_flux=15)"
   ]
  },
  {
   "cell_type": "code",
   "execution_count": null,
   "metadata": {},
   "outputs": [],
   "source": [
    "combined= my_image\n",
    "fig,ax4 = plt.subplots(figsize=(12,8))\n",
    "\n",
    "vmin4 = np.percentile(combined,25)\n",
    "vmax4 = np.percentile(combined,99.5)\n",
    "\n",
    "my_plot4 = ax4.imshow(combined,origin=\"lower\",norm=LogNorm(vmin=np.max([vmin4,1]), vmax=vmax4))\n",
    "\n",
    "\n",
    "#if np.sum(sn>5) < 10:\n",
    "#    ax4.set_title(\"Combined (Bias + Readout Error + Noisy Background + Noisy Stars)\\nBrightest star (red): gmag = {:.2f} ; F = {:.1f} e-/s\\nPotentially saturated pixels (Ne- > 20000): {}\\nWhite circle around all stars with S/N > 5 (N = {})\".format(np.min(gmag),gaia_flux[np.argmin(gmag)],np.sum(combined>20000),np.sum(sn>5)))\n",
    "#    ax4.plot(x_position[sn>5],y_position[sn>5],\"o\",ms=40,markerfacecolor=\"none\",markeredgecolor=\"w\",label=\"gmag < 12\")\n",
    "#else:\n",
    "#    ax4.set_title(\"Combined (Bias + Readout Error + Noisy Background + Noisy Stars)\\nPointing: {}  Texp: {} s\\n{} of {} stars have a S/N > 5\\nBrightest star (red): gmag = {:.2f} ; F = {:.1f} e-/s\\nPotentially saturated pixels (Ne- > 20000): {}\\n\".format(pointing_string,exp_time,np.sum(sn>5),len(gmag),np.min(gmag),gaia_flux[np.argmin(gmag)],np.sum(combined>20000)))\n",
    "#ax4.plot(x_position[np.argmin(gmag)],y_position[np.argmin(gmag)],\"o\",ms=20,markerfacecolor=\"none\",markeredgecolor=\"r\",label=\"gmag < 12\")\n",
    "plt.colorbar(my_plot4,ax=ax4,fraction=0.046, pad=0.04)\n",
    "#plt.colorbar(my_plot4,ax=ax,fraction=0.046, pad=0.04)\n",
    "#ax4.legend()\n",
    "\n",
    "fig.tight_layout()\n",
    "\n",
    "#filename = \"/home/haeberle/exchange/lvm/report/pointing_\"+pointing_string+\"_{:d}ms.png\".format(int(1000*exp_time))\n",
    "#fig.suptitle()\n",
    "#fig.savefig(\"/home/haeberle/exchange/lvm/report/example_crowded_field.png\",dpi=200,bbox_inches=\"tight\",edgecolor=\"white\",facecolor=\"white\")\n",
    "#fig.savefig(filename,dpi=200,bbox_inches=\"tight\",edgecolor=\"white\",facecolor=\"white\") "
   ]
  }
 ],
 "metadata": {
  "kernelspec": {
   "display_name": "Python 3",
   "language": "python",
   "name": "python3"
  },
  "language_info": {
   "codemirror_mode": {
    "name": "ipython",
    "version": 3
   },
   "file_extension": ".py",
   "mimetype": "text/x-python",
   "name": "python",
   "nbconvert_exporter": "python",
   "pygments_lexer": "ipython3",
   "version": "3.6.8"
  }
 },
 "nbformat": 4,
 "nbformat_minor": 4
}
