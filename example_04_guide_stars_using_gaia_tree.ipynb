{
 "cells": [
  {
   "cell_type": "markdown",
   "metadata": {
    "tags": []
   },
   "source": [
    "# LVM Guide Star Catalog using the new library"
   ]
  },
  {
   "cell_type": "code",
   "execution_count": null,
   "metadata": {},
   "outputs": [],
   "source": [
    "import lvmguiding\n",
    "import numpy as np\n",
    "import os\n",
    "import matplotlib.pyplot as plt\n",
    "import time\n",
    "from astropy.coordinates import SkyCoord\n",
    "from importlib import reload\n",
    "from matplotlib.colors import LogNorm\n",
    "import healpy as hp\n",
    "from astropy.io import fits\n",
    "from astropy.table import Table, hstack, vstack"
   ]
  },
  {
   "cell_type": "markdown",
   "metadata": {},
   "source": [
    "## Making some example plots"
   ]
  },
  {
   "cell_type": "code",
   "execution_count": null,
   "metadata": {},
   "outputs": [],
   "source": [
    "#What is going on at <SkyCoord (ICRS): (ra, dec) in deg\n",
    "#    (80.01870621, -68.35233157)>\n",
    "\n",
    "coordinates_crowded = SkyCoord(270.48085943, -28.45945724,unit=\"deg\")\n",
    "coordinates_median = SkyCoord(195.10462204, -55.248677,unit=\"deg\")\n",
    "coordinates_empty = SkyCoord(184.18604651, 15.16853933,unit=\"deg\")\n",
    "\n",
    "c = coordinates_empty\n"
   ]
  },
  {
   "cell_type": "code",
   "execution_count": null,
   "metadata": {},
   "outputs": [],
   "source": [
    "t0 = time.time()\n",
    "gaia_cat = lvmguiding.get_cat_using_healpix2(c,plotflag=True)\n",
    "ras,decs,dd_x_mm,dd_y_mm,chip_xxs,chip_yys,mags,culled_cat = lvmguiding.find_guide_stars(c,pa=0,recycled_cat=gaia_cat)\n",
    "t1 = time.time()\n",
    "print()\n",
    "print(\"Duration using healpix preselection: {:.4f} s\".format(t1-t0))\n",
    "print()\n",
    "\n",
    "t0 = time.time()\n",
    "ras,decs,dd_x_mm,dd_y_mm,chip_xxs,chip_yys,mags,culled_cat = lvmguiding.find_guide_stars(c,pa=0,plotflag=False)\n",
    "t1 = time.time()\n",
    "print()\n",
    "print(\"Duration using full Gaia cat: {:.4f} s\".format(t1-t0))\n",
    "print()\n",
    "\n",
    "t0 = time.time()\n",
    "ras,decs,dd_x_mm,dd_y_mm,chip_xxs,chip_yys,mags,culled_cat = lvmguiding.find_guide_stars(c,pa=0,plotflag=False,remote_catalog=True)\n",
    "t1 = time.time()\n",
    "print()\n",
    "print(\"Duration using online Gaia query cat: {:.4f} s\".format(t1-t0))"
   ]
  },
  {
   "cell_type": "code",
   "execution_count": null,
   "metadata": {
    "tags": []
   },
   "outputs": [],
   "source": [
    "\n",
    "print(c)\n",
    "color_array=[\"r\",\"g\",\"b\",\"r\",\"g\",\"b\"]\n",
    "\n",
    "\n",
    "fig,ax = plt.subplots(figsize=(12,12))\n",
    "\n",
    "ax.plot(gaia_cat[\"ra\"],gaia_cat[\"dec\"],\"c.\",ms=1,label=\"All stars returned by Heal Pix Query\")\n",
    "\n",
    "for index,pa in enumerate([0,60,120,180,240,300]):\n",
    "        print(\"PA: \",pa)\n",
    "        #if pa==0:\n",
    "        ras,decs,dd_x_mm,dd_y_mm,chip_xxs,chip_yys,mags,culled_cat = lvmguiding.find_guide_stars(c,pa=pa,plotflag=False,recycled_cat=gaia_cat)\n",
    "        \n",
    "        if pa==0:\n",
    "            ax.plot(culled_cat[\"ra\"],culled_cat[\"dec\"],\"k.\",ms=1,label=\"All stars within LVM FoV\")\n",
    "        ax.plot(ras,decs,\".\",c=color_array[index],label=\"PA = \"+str(pa)+\" deg\")\n",
    "        \n",
    "ax.legend()\n",
    "\n",
    "ax.set_xlabel(\"RA [deg]\")\n",
    "ax.set_ylabel(\"DEC [deg]\")\n",
    "ax.invert_xaxis()\n",
    "\n",
    "#fig.savefig(\"/home/haeberle/exchange/lvm/report/position_angles.png\",bbox_inches=\"tight\",facecolor=\"w\",edgecolor=\"w\",dpi=200)"
   ]
  },
  {
   "cell_type": "markdown",
   "metadata": {},
   "source": [
    "## Create a synthetic image"
   ]
  },
  {
   "cell_type": "code",
   "execution_count": null,
   "metadata": {},
   "outputs": [],
   "source": [
    "ras,decs,dd_x_mm,dd_y_mm,chip_xxs,chip_yys,mags,culled_cat = lvmguiding.find_guide_stars(c,pa=0,plotflag=False)"
   ]
  },
  {
   "cell_type": "code",
   "execution_count": null,
   "metadata": {},
   "outputs": [],
   "source": [
    "standard_instrument = lvmguiding.InstrumentParameters()"
   ]
  },
  {
   "cell_type": "code",
   "execution_count": null,
   "metadata": {},
   "outputs": [],
   "source": [
    "my_image = lvmguiding.make_synthetic_image(chip_x=chip_xxs,\n",
    "                                           chip_y=chip_yys,\n",
    "                                          gmag=mags,\n",
    "                                          inst =standard_instrument,\n",
    "                                          exp_time=5,\n",
    "                                          seeing_arcsec=3.5,\n",
    "                                          sky_flux=15)"
   ]
  },
  {
   "cell_type": "code",
   "execution_count": null,
   "metadata": {},
   "outputs": [],
   "source": [
    "combined= my_image\n",
    "fig,ax4 = plt.subplots(figsize=(12,8))\n",
    "\n",
    "vmin4 = np.percentile(combined,25)\n",
    "vmax4 = np.percentile(combined,99.5)\n",
    "\n",
    "my_plot4 = ax4.imshow(combined,origin=\"lower\",norm=LogNorm(vmin=np.max([vmin4,1]), vmax=vmax4))\n",
    "\n",
    "\n",
    "#if np.sum(sn>5) < 10:\n",
    "#    ax4.set_title(\"Combined (Bias + Readout Error + Noisy Background + Noisy Stars)\\nBrightest star (red): gmag = {:.2f} ; F = {:.1f} e-/s\\nPotentially saturated pixels (Ne- > 20000): {}\\nWhite circle around all stars with S/N > 5 (N = {})\".format(np.min(gmag),gaia_flux[np.argmin(gmag)],np.sum(combined>20000),np.sum(sn>5)))\n",
    "#    ax4.plot(x_position[sn>5],y_position[sn>5],\"o\",ms=40,markerfacecolor=\"none\",markeredgecolor=\"w\",label=\"gmag < 12\")\n",
    "#else:\n",
    "#    ax4.set_title(\"Combined (Bias + Readout Error + Noisy Background + Noisy Stars)\\nPointing: {}  Texp: {} s\\n{} of {} stars have a S/N > 5\\nBrightest star (red): gmag = {:.2f} ; F = {:.1f} e-/s\\nPotentially saturated pixels (Ne- > 20000): {}\\n\".format(pointing_string,exp_time,np.sum(sn>5),len(gmag),np.min(gmag),gaia_flux[np.argmin(gmag)],np.sum(combined>20000)))\n",
    "#ax4.plot(x_position[np.argmin(gmag)],y_position[np.argmin(gmag)],\"o\",ms=20,markerfacecolor=\"none\",markeredgecolor=\"r\",label=\"gmag < 12\")\n",
    "plt.colorbar(my_plot4,ax=ax4,fraction=0.046, pad=0.04)\n",
    "#plt.colorbar(my_plot4,ax=ax,fraction=0.046, pad=0.04)\n",
    "#ax4.legend()\n",
    "\n",
    "fig.tight_layout()\n",
    "\n",
    "#filename = \"/home/haeberle/exchange/lvm/report/pointing_\"+pointing_string+\"_{:d}ms.png\".format(int(1000*exp_time))\n",
    "#fig.suptitle()\n",
    "#fig.savefig(\"/home/haeberle/exchange/lvm/report/example_crowded_field.png\",dpi=200,bbox_inches=\"tight\",edgecolor=\"white\",facecolor=\"white\")\n",
    "#fig.savefig(filename,dpi=200,bbox_inches=\"tight\",edgecolor=\"white\",facecolor=\"white\") "
   ]
  }
 ],
 "metadata": {
  "kernelspec": {
   "display_name": "Python 3",
   "language": "python",
   "name": "python3"
  },
  "language_info": {
   "codemirror_mode": {
    "name": "ipython",
    "version": 3
   },
   "file_extension": ".py",
   "mimetype": "text/x-python",
   "name": "python",
   "nbconvert_exporter": "python",
   "pygments_lexer": "ipython3",
   "version": "3.6.8"
  }
 },
 "nbformat": 4,
 "nbformat_minor": 4
}
