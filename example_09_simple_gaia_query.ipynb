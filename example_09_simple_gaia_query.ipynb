{
 "cells": [
  {
   "cell_type": "code",
   "execution_count": null,
   "metadata": {},
   "outputs": [],
   "source": [
    "import load_gaia_stars\n",
    "from astropy.coordinates import SkyCoord\n",
    "import matplotlib.pyplot as plt\n",
    "import numpy as np"
   ]
  },
  {
   "cell_type": "code",
   "execution_count": null,
   "metadata": {},
   "outputs": [],
   "source": [
    "ra0  =  (13+26./60+47.24/3600)*15   #13:26:47.24\n",
    "dec0 = -(47+28./60+46.45/3600)  #−47:28:46.\n",
    "\n",
    "c = SkyCoord(ra=ra0,dec=dec0,unit=\"deg\")"
   ]
  },
  {
   "cell_type": "code",
   "execution_count": null,
   "metadata": {},
   "outputs": [],
   "source": [
    "catalog = load_gaia_stars.load_gaia_stars(c,search_radius=2,bright_limit=-99,faint_limit=12)"
   ]
  },
  {
   "cell_type": "code",
   "execution_count": null,
   "metadata": {},
   "outputs": [],
   "source": [
    "fig,ax = plt.subplots()\n",
    "\n",
    "ax.plot(catalog[\"ra\"],catalog[\"dec\"],\".\",ms=2)\n",
    "\n",
    "\n",
    "ax.set_xlabel(\"RA [deg]\")\n",
    "ax.set_ylabel(\"DEC [deg]\")\n",
    "ax.invert_xaxis()\n",
    "ax.set_aspect(1/np.cos(dec0*np.pi/180))"
   ]
  },
  {
   "cell_type": "code",
   "execution_count": null,
   "metadata": {},
   "outputs": [],
   "source": []
  }
 ],
 "metadata": {
  "kernelspec": {
   "display_name": "Python 3",
   "language": "python",
   "name": "python3"
  },
  "language_info": {
   "codemirror_mode": {
    "name": "ipython",
    "version": 3
   },
   "file_extension": ".py",
   "mimetype": "text/x-python",
   "name": "python",
   "nbconvert_exporter": "python",
   "pygments_lexer": "ipython3",
   "version": "3.6.8"
  }
 },
 "nbformat": 4,
 "nbformat_minor": 4
}
