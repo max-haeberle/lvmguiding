{
 "cells": [
  {
   "cell_type": "code",
   "execution_count": null,
   "metadata": {},
   "outputs": [],
   "source": [
    "import lvmguiding\n",
    "import numpy as np\n",
    "import os\n",
    "import matplotlib.pyplot as plt\n",
    "import time\n",
    "from astropy.coordinates import SkyCoord\n",
    "from importlib import reload\n",
    "from matplotlib.colors import LogNorm"
   ]
  },
  {
   "cell_type": "code",
   "execution_count": null,
   "metadata": {},
   "outputs": [],
   "source": [
    "standard_instrument = lvmguiding.InstrumentParameters()"
   ]
  },
  {
   "cell_type": "code",
   "execution_count": null,
   "metadata": {},
   "outputs": [],
   "source": [
    "ra0  =  (13+26./60+47.24/3600)*15   #13:26:47.24\n",
    "dec0 = -(47+28./60+46.45/3600)  #−47:28:46.\n",
    "pa=0\n",
    "c = SkyCoord(ra=ra0,dec=dec0,unit=\"deg\")\n",
    "ras1,decs1,dd_x_mm1,dd_y_mm1,chip_xxs1,chip_yys1,mags1,recycled_cat = lvmguiding.find_guide_stars(c,pa=pa,plotflag=True,remote_catalog=True,inst=standard_instrument,)"
   ]
  },
  {
   "cell_type": "code",
   "execution_count": null,
   "metadata": {},
   "outputs": [],
   "source": [
    "my_image1 = lvmguiding.make_synthetic_image(chip_x=chip_xxs1,\n",
    "                                           chip_y=chip_yys1,\n",
    "                                          gmag=mags1,\n",
    "                                          inst =standard_instrument,\n",
    "                                          exp_time=5,\n",
    "                                          seeing_arcsec=3.5,\n",
    "                                          sky_flux=15,write_output=\"example.fits\")\n",
    "\n"
   ]
  },
  {
   "cell_type": "code",
   "execution_count": null,
   "metadata": {},
   "outputs": [],
   "source": [
    "fig,ax4 = plt.subplots(figsize=(13,8))\n",
    "\n",
    "vmin4 = np.percentile(my_image1,25)\n",
    "vmax4 = np.percentile(my_image1,99.5)\n",
    "\n",
    "\n",
    "my_plot4 = ax4.imshow(my_image1,origin=\"lower\",norm=LogNorm(vmin=np.max([vmin4,1]), vmax=vmax4))\n",
    "\n",
    "plt.colorbar(my_plot4,ax=ax4,fraction=0.046, pad=0.04)\n",
    "fig.tight_layout()\n",
    "\n",
    "#fig.savefig(\"example_images/synthetic_image_{:03d}.png\".format(counter),dpi=200,facecolor=\"w\",edgecolor=\"w\",bbox_inches=\"tight\")"
   ]
  },
  {
   "cell_type": "code",
   "execution_count": null,
   "metadata": {},
   "outputs": [],
   "source": []
  }
 ],
 "metadata": {
  "kernelspec": {
   "display_name": "Python 3",
   "language": "python",
   "name": "python3"
  },
  "language_info": {
   "codemirror_mode": {
    "name": "ipython",
    "version": 3
   },
   "file_extension": ".py",
   "mimetype": "text/x-python",
   "name": "python",
   "nbconvert_exporter": "python",
   "pygments_lexer": "ipython3",
   "version": "3.6.8"
  }
 },
 "nbformat": 4,
 "nbformat_minor": 4
}
