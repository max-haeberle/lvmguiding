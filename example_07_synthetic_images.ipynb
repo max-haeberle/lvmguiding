{
 "cells": [
  {
   "cell_type": "code",
   "execution_count": null,
   "metadata": {},
   "outputs": [],
   "source": [
    "import lvmguiding\n",
    "import numpy as np\n",
    "import os\n",
    "import matplotlib.pyplot as plt\n",
    "import time\n",
    "from astropy.coordinates import SkyCoord\n",
    "from importlib import reload\n",
    "from matplotlib.colors import LogNorm"
   ]
  },
  {
   "cell_type": "code",
   "execution_count": null,
   "metadata": {},
   "outputs": [],
   "source": [
    "filename_empty = \"/data/beegfs/astro-storage/groups/others/neumayer/haeberle/lvm_outsourced/guide_star_search_results_no_faint_limit/guide_stars_001017_pa_000.npy\"\n",
    "filename_median = \"/data/beegfs/astro-storage/groups/others/neumayer/haeberle/lvm_outsourced/guide_star_search_results_no_faint_limit/guide_stars_003429_pa_000.npy\"\n",
    "filename_crowded = \"/data/beegfs/astro-storage/groups/others/neumayer/haeberle/lvm_outsourced/guide_star_search_results_no_faint_limit/guide_stars_005419_pa_000.npy\""
   ]
  },
  {
   "cell_type": "code",
   "execution_count": null,
   "metadata": {},
   "outputs": [],
   "source": [
    "ras1,decs1,dd_x_mm1,dd_y_mm1,chip_xxs1,chip_yys1,mags1 = np.load(filename_empty).T\n",
    "ras2,decs2,dd_x_mm2,dd_y_mm2,chip_xxs2,chip_yys2,mags2 = np.load(filename_median).T\n",
    "ras3,decs3,dd_x_mm3,dd_y_mm3,chip_xxs3,chip_yys3,mags3 = np.load(filename_crowded).T"
   ]
  },
  {
   "cell_type": "code",
   "execution_count": null,
   "metadata": {},
   "outputs": [],
   "source": [
    "my_image1 = lvmguiding.make_synthetic_image(chip_x=chip_xxs1,\n",
    "                                           chip_y=chip_yys1,\n",
    "                                          gmag=mags1,\n",
    "                                          inst =standard_instrument,\n",
    "                                          exp_time=5,\n",
    "                                          seeing_arcsec=3.5,\n",
    "                                          sky_flux=15,write_output=\"example_images/synthetic_image_sparse_field_5s.fits\")\n",
    "\n",
    "my_image2 = lvmguiding.make_synthetic_image(chip_x=chip_xxs2,\n",
    "                                           chip_y=chip_yys2,\n",
    "                                          gmag=mags2,\n",
    "                                          inst =standard_instrument,\n",
    "                                          exp_time=5,\n",
    "                                          seeing_arcsec=3.5,\n",
    "                                          sky_flux=15,write_output=\"example_images/synthetic_image_median_field_5s.fits\")\n",
    "\n",
    "my_image3 = lvmguiding.make_synthetic_image(chip_x=chip_xxs3,\n",
    "                                           chip_y=chip_yys3,\n",
    "                                          gmag=mags3,\n",
    "                                          inst =standard_instrument,\n",
    "                                          exp_time=5,\n",
    "                                          seeing_arcsec=3.5,\n",
    "                                          sky_flux=15,write_output=\"example_images/synthetic_image_crowded_field_5s.fits\")"
   ]
  },
  {
   "cell_type": "code",
   "execution_count": null,
   "metadata": {},
   "outputs": [],
   "source": [
    "counter=0\n",
    "for combined in [my_image1,my_image2,my_image3]:\n",
    "    counter+=1\n",
    "    fig,ax4 = plt.subplots(figsize=(13,8))\n",
    "\n",
    "    vmin4 = np.percentile(combined,25)\n",
    "    vmax4 = np.percentile(combined,99.5)\n",
    "\n",
    "\n",
    "    my_plot4 = ax4.imshow(combined,origin=\"lower\",norm=LogNorm(vmin=np.max([vmin4,1]), vmax=vmax4))\n",
    "\n",
    "    plt.colorbar(my_plot4,ax=ax4,fraction=0.046, pad=0.04)\n",
    "    fig.tight_layout()\n",
    "\n",
    "    fig.savefig(\"example_images/synthetic_image_{:03d}.png\".format(counter),dpi=200,facecolor=\"w\",edgecolor=\"w\",bbox_inches=\"tight\")"
   ]
  },
  {
   "cell_type": "code",
   "execution_count": null,
   "metadata": {},
   "outputs": [],
   "source": [
    "my_image3.max()"
   ]
  },
  {
   "cell_type": "code",
   "execution_count": null,
   "metadata": {},
   "outputs": [],
   "source": []
  },
  {
   "cell_type": "code",
   "execution_count": null,
   "metadata": {},
   "outputs": [],
   "source": [
    "images = []\n",
    "for seeing in [1.0,1.5,2.5,3,3.5,4.0,4.5,5,6,7,8,9,10,12,15,20,50,99]:\n",
    "    print(seeing)\n",
    "    my_image2 = lvmguiding.make_synthetic_image(chip_x=chip_xxs2,\n",
    "                                               chip_y=chip_yys2,\n",
    "                                              gmag=mags2,\n",
    "                                              inst =standard_instrument,\n",
    "                                              exp_time=5,\n",
    "                                              seeing_arcsec=seeing,\n",
    "                                              sky_flux=15,write_output=\"example_images/synthetic_image_median_field_5s_seeing_{:04.1f}.fits\".format(seeing))\n",
    "    images.append(my_image2)\n",
    "    \n",
    "    fig,ax4 = plt.subplots(figsize=(13,8))\n",
    "\n",
    "    vmin4 = 240#np.percentile(combined,25)\n",
    "    vmax4 = 400#np.percentile(combined,99.5)\n",
    "\n",
    "\n",
    "    my_plot4 = ax4.imshow(my_image2,origin=\"lower\",norm=LogNorm(vmin=np.max([vmin4,1]), vmax=vmax4))\n",
    "    ax4.set_title(seeing)\n",
    "    plt.colorbar(my_plot4,ax=ax4,fraction=0.046, pad=0.04)\n",
    "    fig.tight_layout()"
   ]
  },
  {
   "cell_type": "code",
   "execution_count": null,
   "metadata": {},
   "outputs": [],
   "source": [
    "vmax4"
   ]
  },
  {
   "cell_type": "code",
   "execution_count": null,
   "metadata": {},
   "outputs": [],
   "source": [
    "counter=0\n",
    "for combined in images:\n",
    "    counter+=1\n",
    "    fig,ax4 = plt.subplots(figsize=(13,8))\n",
    "\n",
    "    vmin4 = 240#np.percentile(combined,25)\n",
    "    vmax4 = 400#np.percentile(combined,99.5)\n",
    "\n",
    "\n",
    "    my_plot4 = ax4.imshow(combined,origin=\"lower\",norm=LogNorm(vmin=np.max([vmin4,1]), vmax=vmax4))\n",
    "\n",
    "    plt.colorbar(my_plot4,ax=ax4,fraction=0.046, pad=0.04)\n",
    "    fig.tight_layout()"
   ]
  },
  {
   "cell_type": "code",
   "execution_count": null,
   "metadata": {},
   "outputs": [],
   "source": [
    "vmax"
   ]
  },
  {
   "cell_type": "code",
   "execution_count": null,
   "metadata": {},
   "outputs": [],
   "source": []
  }
 ],
 "metadata": {
  "kernelspec": {
   "display_name": "Python 3",
   "language": "python",
   "name": "python3"
  },
  "language_info": {
   "codemirror_mode": {
    "name": "ipython",
    "version": 3
   },
   "file_extension": ".py",
   "mimetype": "text/x-python",
   "name": "python",
   "nbconvert_exporter": "python",
   "pygments_lexer": "ipython3",
   "version": "3.6.8"
  }
 },
 "nbformat": 4,
 "nbformat_minor": 4
}
