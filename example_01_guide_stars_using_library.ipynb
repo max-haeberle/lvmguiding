{
 "cells": [
  {
   "cell_type": "markdown",
   "metadata": {
    "tags": []
   },
   "source": [
    "# LVM Guide Star Catalog using the new library"
   ]
  },
  {
   "cell_type": "code",
   "execution_count": null,
   "metadata": {},
   "outputs": [],
   "source": [
    "import lvmguiding\n",
    "import numpy as np\n",
    "import os\n",
    "import matplotlib.pyplot as plt\n",
    "import time\n",
    "from astropy.coordinates import SkyCoord\n",
    "from importlib import reload\n",
    "from matplotlib.colors import LogNorm"
   ]
  },
  {
   "cell_type": "markdown",
   "metadata": {},
   "source": [
    "## Creating the pointing list"
   ]
  },
  {
   "cell_type": "code",
   "execution_count": null,
   "metadata": {},
   "outputs": [],
   "source": [
    "!pwd"
   ]
  },
  {
   "cell_type": "code",
   "execution_count": null,
   "metadata": {},
   "outputs": [],
   "source": [
    "lvmguiding.lvminst.mag_lim_lower = 99"
   ]
  },
  {
   "cell_type": "code",
   "execution_count": null,
   "metadata": {},
   "outputs": [],
   "source": [
    "if False: #Old way of creating the pointing list (a sparse grid for testing purposes):\n",
    "    pointing_list = []\n",
    "\n",
    "    counter = 0\n",
    "    ra_list =[]\n",
    "    dec_list=[]\n",
    "    for ra in np.arange(5,355,10):\n",
    "        for dec in np.arange(-85,85,10):\n",
    "            c = SkyCoord(frame='icrs',ra=ra, dec=dec,unit='deg')\n",
    "            pointing_list.append(c)\n",
    "            ra_list.append(ra)\n",
    "            dec_list.append(dec)\n",
    "    #pointing_list=pointing_list[:10]\n",
    "\n",
    "    indices = np.array(range(len(pointing_list)))\n",
    "\n",
    "    output = np.stack((indices,ra_list,dec_list),axis=1)\n",
    "\n",
    "    os.system(\"mkdir /data/beegfs/astro-storage/groups/others/neumayer/haeberle/lvm_outsourced/guide_star_search_results_no_faint_limit\")\n",
    "    filename = \"/data/beegfs/astro-storage/groups/others/neumayer/haeberle/lvm_outsourced/guide_star_search_results_no_faint_limit/pointing_list\"\n",
    "\n",
    "    #pointing_list = pointing_list[[1,4,34,56,70,100]]\n",
    "    if True: np.savetxt(filename,output,fmt=\"%10.6f\")\n",
    "\n",
    "    #pointing_list = pointing_list[::50]\n",
    "\n",
    "else: #new way of creating the pointing list usin the results from the survey simulator\n",
    "    from astropy.io import fits\n",
    "    with fits.open(\"lvmsurveysim_hz_1000.fits\") as hdul:\n",
    "        my_data = hdul[1].data\n",
    "\n",
    "    my_data = my_data[my_data[\"ra\"]>-500]\n",
    "\n",
    "    ra_list = my_data[\"ra\"]\n",
    "    dec_list = my_data[\"dec\"]\n",
    "\n",
    "    indices = np.array(range(len(ra_list)))\n",
    "\n",
    "\n",
    "\n",
    "\n",
    "    pointing_list = []\n",
    "\n",
    "    for index in indices:\n",
    "        ra = ra_list[index]\n",
    "        dec = dec_list[index]\n",
    "\n",
    "        c = SkyCoord(frame='icrs',ra=ra, dec=dec,unit='deg')\n",
    "        pointing_list.append(c)\n",
    "\n",
    "    output = np.stack((indices,ra_list,dec_list),axis=1)\n",
    "\n",
    "\n",
    "    filename = \"/data/beegfs/astro-storage/groups/others/neumayer/haeberle/lvm_outsourced/guide_star_search_results_no_faint_limit/pointing_list\"\n",
    "\n",
    "    #pointing_list = pointing_list[[1,4,34,56,70,100]]\n",
    "    if True:\n",
    "        np.savetxt(filename,output,fmt=\"%10.6f\")\n",
    "\n",
    "fig,ax = plt.subplots(figsize=(12,6))\n",
    "ax.plot(ra_list,dec_list,\"k.\",ms=1)\n",
    "ax.set_xlabel(\"RA\")\n",
    "ax.set_ylabel(\"DEC\") \n",
    "ax.invert_xaxis()\n",
    "\n",
    "    \n",
    "pointing_touple_list = []\n",
    "for index,c in enumerate(pointing_list):\n",
    "    pointing_touple_list.append((index,c))"
   ]
  },
  {
   "cell_type": "markdown",
   "metadata": {},
   "source": [
    "## Paralellized work on the pointing list"
   ]
  },
  {
   "cell_type": "code",
   "execution_count": null,
   "metadata": {
    "scrolled": true,
    "tags": []
   },
   "outputs": [],
   "source": [
    "if True: \n",
    "    \n",
    "    from multiprocessing import Pool\n",
    "\n",
    "    t00 = time.time()\n",
    "    num_processors = 28#Create a pool of processors\n",
    "    p=Pool(processes = num_processors)#get them to work in parallel\n",
    "    output = p.map(lvmguiding.find_guide_stars_auto,[input_touple for input_touple in pointing_touple_list[:]])\n",
    "    p.close()\n",
    "    p.join()\n",
    "\n",
    "    for o in output:\n",
    "        print(o)\n",
    "\n",
    "    t11 = time.time()\n",
    "\n",
    "    print(\"Total execution time: {:.1f} s\".format(t11-t00))"
   ]
  },
  {
   "cell_type": "code",
   "execution_count": null,
   "metadata": {},
   "outputs": [],
   "source": [
    "lvmguiding.lvminst.mag_lim_lower"
   ]
  },
  {
   "cell_type": "markdown",
   "metadata": {},
   "source": [
    "## Making some example plots"
   ]
  },
  {
   "cell_type": "code",
   "execution_count": null,
   "metadata": {},
   "outputs": [],
   "source": [
    "#What is going on at <SkyCoord (ICRS): (ra, dec) in deg\n",
    "#    (80.01870621, -68.35233157)>"
   ]
  },
  {
   "cell_type": "code",
   "execution_count": null,
   "metadata": {},
   "outputs": [],
   "source": [
    "reload(lvmguiding)"
   ]
  },
  {
   "cell_type": "code",
   "execution_count": null,
   "metadata": {},
   "outputs": [],
   "source": []
  },
  {
   "cell_type": "code",
   "execution_count": null,
   "metadata": {},
   "outputs": [],
   "source": [
    "\n",
    "c = pointing_touple_list[50][1]\n",
    "print(c)\n",
    "color_array=[\"r\",\"g\",\"b\",\"r\",\"g\",\"b\"]\n",
    "\n",
    "\n",
    "fig,ax = plt.subplots(figsize=(12,12))\n",
    "\n",
    "for index,pa in enumerate([0,60,120,180,240,300]):\n",
    "        print(\"PA: \",pa)\n",
    "        if pa==0:\n",
    "            print(\"Using the full cat for the first position\")\n",
    "            #culled_cat=lvmguiding.cat_full\n",
    "            culled_cat = lvmguiding.get_cat_using_healpix2(c,plotflag=True)\n",
    "        ras,decs,dd_x_mm,dd_y_mm,chip_xxs,chip_yys,mags,culled_cat = lvmguiding.find_guide_stars(c,pa=pa,plotflag=False,recycled_cat=culled_cat)\n",
    "        \n",
    "        if pa==0:\n",
    "            ax.plot(culled_cat[\"ra\"],culled_cat[\"dec\"],\"k.\",ms=1)\n",
    "        ax.plot(ras,decs,\".\",c=color_array[index],label=\"PA = \"+str(pa)+\" deg\")\n",
    "        \n",
    "ax.legend()\n",
    "\n",
    "ax.set_xlabel(\"RA [deg]\")\n",
    "ax.set_ylabel(\"DEC [deg]\")\n",
    "ax.invert_xaxis()\n",
    "\n",
    "#fig.savefig(\"/home/haeberle/exchange/lvm/report/position_angles.png\",bbox_inches=\"tight\",facecolor=\"w\",edgecolor=\"w\",dpi=200)"
   ]
  },
  {
   "cell_type": "code",
   "execution_count": null,
   "metadata": {},
   "outputs": [],
   "source": []
  },
  {
   "cell_type": "code",
   "execution_count": null,
   "metadata": {},
   "outputs": [],
   "source": [
    "reload(lvmguiding)"
   ]
  },
  {
   "cell_type": "code",
   "execution_count": null,
   "metadata": {},
   "outputs": [],
   "source": [
    "c = pointing_touple_list[5419][1]\n",
    "c = pointing_touple_list[3429][1]\n",
    "#c = pointing_touple_list[1017][1]\n",
    "print(c)\n",
    "color_array=[\"r\",\"r\",\"r\"]\n",
    "\n",
    "my_inst = lvmguiding.InstrumentParameters()\n",
    "\n",
    "my_inst.mag_lim_lower=17\n",
    "\n",
    "fig,ax = plt.subplots(figsize=(6,6))\n",
    "\n",
    "for index,pa in enumerate([0,180]):\n",
    "        print(\"PA: \",pa)\n",
    "        if pa==0:\n",
    "            print(\"Using the full cat for the first position\")\n",
    "            #culled_cat=lvmguiding.cat_full\n",
    "            culled_cat = lvmguiding.get_cat_using_healpix2(c,plotflag=True)\n",
    "        ras,decs,dd_x_mm,dd_y_mm,chip_xxs,chip_yys,mags,culled_cat = lvmguiding.find_guide_stars(c,pa=pa,plotflag=False,recycled_cat=culled_cat,inst=my_inst)\n",
    "        \n",
    "        if pa==0:\n",
    "            ax.plot(culled_cat[\"ra\"],culled_cat[\"dec\"],\"ko\",ms=1)\n",
    "\n",
    "        ax.plot(ras,decs,\"o\",c=color_array[index],label=\"PA = \"+str(pa)+\" deg\",ms=1)\n",
    "        \n",
    "ax.legend()\n",
    "\n",
    "ax.set_xlabel(\"RA [deg]\")\n",
    "ax.set_ylabel(\"DEC [deg]\")\n",
    "ax.invert_xaxis()\n",
    "\n",
    "fig.savefig(\"../../../../exchange_temp/median_density.png\",dpi=200,facecolor=\"w\",edgecolor=\"w\",bbox_inches=\"tight\")"
   ]
  },
  {
   "cell_type": "code",
   "execution_count": null,
   "metadata": {},
   "outputs": [],
   "source": []
  },
  {
   "cell_type": "code",
   "execution_count": null,
   "metadata": {},
   "outputs": [],
   "source": []
  },
  {
   "cell_type": "code",
   "execution_count": null,
   "metadata": {},
   "outputs": [],
   "source": []
  },
  {
   "cell_type": "code",
   "execution_count": null,
   "metadata": {},
   "outputs": [],
   "source": []
  },
  {
   "cell_type": "code",
   "execution_count": null,
   "metadata": {},
   "outputs": [],
   "source": []
  },
  {
   "cell_type": "markdown",
   "metadata": {},
   "source": [
    "## Create a synthetic image"
   ]
  },
  {
   "cell_type": "code",
   "execution_count": null,
   "metadata": {},
   "outputs": [],
   "source": [
    "culled_cat = lvmguiding.get_cat_using_healpix2(c,plotflag=True)\n",
    "ras,decs,dd_x_mm,dd_y_mm,chip_xxs,chip_yys,mags,culled_cat = lvmguiding.find_guide_stars(c,pa=0,plotflag=False,recycled_cat=culled_cat)"
   ]
  },
  {
   "cell_type": "code",
   "execution_count": null,
   "metadata": {},
   "outputs": [],
   "source": [
    "standard_instrument = lvmguiding.InstrumentParameters()"
   ]
  },
  {
   "cell_type": "code",
   "execution_count": null,
   "metadata": {},
   "outputs": [],
   "source": [
    "my_image = lvmguiding.make_synthetic_image(chip_x=chip_xxs,\n",
    "                                           chip_y=chip_yys,\n",
    "                                          gmag=mags,\n",
    "                                          inst =standard_instrument,\n",
    "                                          exp_time=5,\n",
    "                                          seeing_arcsec=3.5,\n",
    "                                          sky_flux=15)"
   ]
  },
  {
   "cell_type": "code",
   "execution_count": null,
   "metadata": {},
   "outputs": [],
   "source": [
    "combined= my_image\n",
    "fig,ax4 = plt.subplots(figsize=(12,8))\n",
    "\n",
    "vmin4 = np.percentile(combined,25)\n",
    "vmax4 = np.percentile(combined,99.5)\n",
    "\n",
    "my_plot4 = ax4.imshow(combined,origin=\"lower\",norm=LogNorm(vmin=np.max([vmin4,1]), vmax=vmax4))\n",
    "\n",
    "\n",
    "#if np.sum(sn>5) < 10:\n",
    "#    ax4.set_title(\"Combined (Bias + Readout Error + Noisy Background + Noisy Stars)\\nBrightest star (red): gmag = {:.2f} ; F = {:.1f} e-/s\\nPotentially saturated pixels (Ne- > 20000): {}\\nWhite circle around all stars with S/N > 5 (N = {})\".format(np.min(gmag),gaia_flux[np.argmin(gmag)],np.sum(combined>20000),np.sum(sn>5)))\n",
    "#    ax4.plot(x_position[sn>5],y_position[sn>5],\"o\",ms=40,markerfacecolor=\"none\",markeredgecolor=\"w\",label=\"gmag < 12\")\n",
    "#else:\n",
    "#    ax4.set_title(\"Combined (Bias + Readout Error + Noisy Background + Noisy Stars)\\nPointing: {}  Texp: {} s\\n{} of {} stars have a S/N > 5\\nBrightest star (red): gmag = {:.2f} ; F = {:.1f} e-/s\\nPotentially saturated pixels (Ne- > 20000): {}\\n\".format(pointing_string,exp_time,np.sum(sn>5),len(gmag),np.min(gmag),gaia_flux[np.argmin(gmag)],np.sum(combined>20000)))\n",
    "#ax4.plot(x_position[np.argmin(gmag)],y_position[np.argmin(gmag)],\"o\",ms=20,markerfacecolor=\"none\",markeredgecolor=\"r\",label=\"gmag < 12\")\n",
    "plt.colorbar(my_plot4,ax=ax4,fraction=0.046, pad=0.04)\n",
    "#plt.colorbar(my_plot4,ax=ax,fraction=0.046, pad=0.04)\n",
    "#ax4.legend()\n",
    "\n",
    "fig.tight_layout()\n",
    "\n",
    "#filename = \"/home/haeberle/exchange/lvm/report/pointing_\"+pointing_string+\"_{:d}ms.png\".format(int(1000*exp_time))\n",
    "#fig.suptitle()\n",
    "#fig.savefig(\"/home/haeberle/exchange/lvm/report/example_crowded_field.png\",dpi=200,bbox_inches=\"tight\",edgecolor=\"white\",facecolor=\"white\")\n",
    "#fig.savefig(filename,dpi=200,bbox_inches=\"tight\",edgecolor=\"white\",facecolor=\"white\") "
   ]
  },
  {
   "cell_type": "code",
   "execution_count": null,
   "metadata": {},
   "outputs": [],
   "source": []
  }
 ],
 "metadata": {
  "kernelspec": {
   "display_name": "Python 3",
   "language": "python",
   "name": "python3"
  },
  "language_info": {
   "codemirror_mode": {
    "name": "ipython",
    "version": 3
   },
   "file_extension": ".py",
   "mimetype": "text/x-python",
   "name": "python",
   "nbconvert_exporter": "python",
   "pygments_lexer": "ipython3",
   "version": "3.6.8"
  }
 },
 "nbformat": 4,
 "nbformat_minor": 4
}
