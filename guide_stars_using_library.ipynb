{
 "cells": [
  {
   "cell_type": "markdown",
   "metadata": {
    "tags": []
   },
   "source": [
    "# LVM Guide Star Catalog using the new library"
   ]
  },
  {
   "cell_type": "code",
   "execution_count": null,
   "metadata": {},
   "outputs": [],
   "source": [
    "import lvmguiding\n",
    "import numpy as np\n",
    "import os\n",
    "import matplotlib.pyplot as plt\n",
    "import time\n",
    "from astropy.coordinates import SkyCoord"
   ]
  },
  {
   "cell_type": "code",
   "execution_count": null,
   "metadata": {},
   "outputs": [],
   "source": [
    "lvmguiding.cat_full.shape"
   ]
  },
  {
   "cell_type": "markdown",
   "metadata": {},
   "source": [
    "## Creating the pointing list"
   ]
  },
  {
   "cell_type": "code",
   "execution_count": null,
   "metadata": {},
   "outputs": [],
   "source": [
    "!pwd"
   ]
  },
  {
   "cell_type": "code",
   "execution_count": null,
   "metadata": {},
   "outputs": [],
   "source": [
    "if True: #Old way of creating the pointing list:\n",
    "    pointing_list = []\n",
    "\n",
    "    counter = 0\n",
    "    ra_list =[]\n",
    "    dec_list=[]\n",
    "    for ra in np.arange(5,355,30):\n",
    "        for dec in np.arange(-85,85,20):\n",
    "            c = SkyCoord(frame='icrs',ra=ra, dec=dec,unit='deg')\n",
    "            pointing_list.append(c)\n",
    "            ra_list.append(ra)\n",
    "            dec_list.append(dec)\n",
    "    #pointing_list=pointing_list[:10]\n",
    "\n",
    "    indices = np.array(range(len(pointing_list)))\n",
    "\n",
    "    output = np.stack((indices,ra_list,dec_list),axis=1)\n",
    "\n",
    "    os.system(\"mkdir guide_star_search_results\")\n",
    "    filename = \"guide_star_search_results/pointing_list\"\n",
    "\n",
    "    #pointing_list = pointing_list[[1,4,34,56,70,100]]\n",
    "    if True: np.savetxt(filename,output,fmt=\"%10.6f\")\n",
    "\n",
    "    #pointing_list = pointing_list[::50]\n",
    "\n",
    "if False: #new way of creating the pointing list\n",
    "    from astropy.io import fits\n",
    "    with fits.open(\"lvmsurveysim_hz_1000.fits\") as hdul:\n",
    "        my_data = hdul[1].data\n",
    "\n",
    "    my_data = my_data[my_data[\"ra\"]>-500]\n",
    "\n",
    "    ra_list = my_data[\"ra\"]\n",
    "    dec_list = my_data[\"dec\"]\n",
    "\n",
    "    indices = np.array(range(len(ra_list)))\n",
    "\n",
    "\n",
    "\n",
    "\n",
    "    pointing_list = []\n",
    "\n",
    "    for index in indices:\n",
    "        ra = ra_list[index]\n",
    "        dec = dec_list[index]\n",
    "\n",
    "        c = SkyCoord(frame='icrs',ra=ra, dec=dec,unit='deg')\n",
    "        pointing_list.append(c)\n",
    "\n",
    "    output = np.stack((indices,ra_list,dec_list),axis=1)\n",
    "\n",
    "\n",
    "    filename = \"guide_star_search_results/pointing_list\"\n",
    "\n",
    "    #pointing_list = pointing_list[[1,4,34,56,70,100]]\n",
    "    if False:\n",
    "        np.savetxt(filename,output,fmt=\"%10.6f\")\n",
    "\n",
    "fig,ax = plt.subplots(figsize=(12,6))\n",
    "ax.plot(ra_list,dec_list,\"k.\",ms=1)\n",
    "ax.set_xlabel(\"RA\")\n",
    "ax.set_ylabel(\"DEC\") \n",
    "ax.invert_xaxis()\n",
    "\n",
    "    \n",
    "pointing_touple_list = []\n",
    "for index,c in enumerate(pointing_list):\n",
    "    pointing_touple_list.append((index,c))"
   ]
  },
  {
   "cell_type": "markdown",
   "metadata": {},
   "source": [
    "## Sequential work on the pointing list"
   ]
  },
  {
   "cell_type": "code",
   "execution_count": null,
   "metadata": {
    "scrolled": true
   },
   "outputs": [],
   "source": [
    "#c = SkyCoord(frame=\"galactic\", l=280, b=0,unit='deg'\n",
    "#ras,decs,dd_x_mm,dd_y_mm,chip_xxs,chip_yys,mags,culled_cat = find_guide_stars2(c,pa=0,plotflag=True,recycled_cat=culled_cat)\n",
    "\n",
    "if False:\n",
    "    for index,c in enumerate(pointing_list):\n",
    "        print(\"Analyzing pointing {} of {} (ra: {} dec: {})\".format(index+1,len(pointing_list),c.ra.deg,c.dec.deg))\n",
    "        #c = SkyCoord(frame=\"galactic\", l=280, b=0,unit='deg')\n",
    "        #print(c)\n",
    "        for pa in [0,60,120,180,240,300]:\n",
    "            print(\"PA: \",pa)\n",
    "            if pa==0:\n",
    "                culled_cat=cat_full\n",
    "            ras,decs,dd_x_mm,dd_y_mm,chip_xxs,chip_yys,mags,culled_cat = find_guide_stars2(c,pa=pa,plotflag=False,recycled_cat=culled_cat)    \n",
    "\n",
    "            output = np.stack((ras,decs,dd_x_mm,dd_y_mm,chip_xxs,chip_yys,mags))\n",
    "            filename = \"guide_star_search_results/guide_stars_{:06d}_pa_{:03d}\".format(index,pa)\n",
    "            np.savetxt(filename,output,fmt=\"%10.6f\")\n",
    "\n",
    "        \n",
    "#ras,decs,dd_x_mm,dd_y_mm,chip_xxs,chip_yys,mags,culled_cat = find_guide_stars2(c,pa=60,plotflag=True,recycled_cat=culled_cat)\n",
    "#ras,decs,dd_x_mm,dd_y_mm,chip_xxs,chip_yys,mags, culled_cat = find_guide_stars2(c,pa=120,plotflag=True,recycled_cat=culled_cat)\n",
    "#ras,decs,dd_x_mm,dd_y_mm,chip_xxs,chip_yys,culled_cat = find_guide_stars2(c,pa=180,plotflag=True,recycled_cat=culled_cat)\n",
    "#ras,decs,dd_x_mm,dd_y_mm,chip_xxs,chip_yys,culled_cat = find_guide_stars2(c,pa=240,plotflag=True,recycled_cat=culled_cat)\n",
    "#ras,decs,dd_x_mm,dd_y_mm,chip_xxs,chip_yys,culled_cat = find_guide_stars2(c,pa=300,plotflag=True,recycled_cat=culled_cat)"
   ]
  },
  {
   "cell_type": "markdown",
   "metadata": {},
   "source": [
    "## Paralellized work on the pointing list"
   ]
  },
  {
   "cell_type": "code",
   "execution_count": null,
   "metadata": {
    "scrolled": true
   },
   "outputs": [],
   "source": [
    "from multiprocessing import Pool\n",
    "\n",
    "t00 = time.time()\n",
    "num_processors = 30#Create a pool of processors\n",
    "p=Pool(processes = num_processors)#get them to work in parallel\n",
    "output = p.map(lvmguiding.find_guide_stars_auto,[input_touple for input_touple in pointing_touple_list[:]])\n",
    "p.close()\n",
    "p.join()\n",
    "\n",
    "for o in output:\n",
    "    print(o)\n",
    "    \n",
    "t11 = time.time()\n",
    "\n",
    "print(\"Total execution time: {:.1f} s\".format(t11-t00))"
   ]
  },
  {
   "cell_type": "markdown",
   "metadata": {},
   "source": [
    "## Making some example plots"
   ]
  },
  {
   "cell_type": "code",
   "execution_count": null,
   "metadata": {},
   "outputs": [],
   "source": [
    "c = pointing_touple_list[50][1]\n",
    "\n",
    "color_array=[\"r\",\"g\",\"b\",\"r\",\"g\",\"b\"]\n",
    "\n",
    "\n",
    "fig,ax = plt.subplots(figsize=(12,12))\n",
    "\n",
    "for index,pa in enumerate([0,60,120,180,240,300]):\n",
    "        print(\"PA: \",pa)\n",
    "        if pa==0:\n",
    "            culled_cat=lvmguiding.cat_full\n",
    "        ras,decs,dd_x_mm,dd_y_mm,chip_xxs,chip_yys,mags,culled_cat = lvmguiding.find_guide_stars(c,pa=pa,plotflag=False,recycled_cat=culled_cat)\n",
    "        \n",
    "        if pa==0:\n",
    "            ax.plot(culled_cat[\"ra\"],culled_cat[\"dec\"],\"k.\",ms=1)\n",
    "        ax.plot(ras,decs,\".\",c=color_array[index],label=\"PA = \"+str(pa)+\" deg\")\n",
    "        \n",
    "ax.legend()\n",
    "\n",
    "ax.set_xlabel(\"RA [deg]\")\n",
    "ax.set_ylabel(\"DEC [deg]\")\n",
    "ax.invert_xaxis()\n",
    "\n",
    "#fig.savefig(\"/home/haeberle/exchange/lvm/report/position_angles.png\",bbox_inches=\"tight\",facecolor=\"w\",edgecolor=\"w\",dpi=200)"
   ]
  },
  {
   "cell_type": "code",
   "execution_count": null,
   "metadata": {},
   "outputs": [],
   "source": [
    "ras,decs,dd_x_mm,dd_y_mm,chip_xxs,chip_yys,mags,culled_cat = find_guide_stars2(c,pa=0,plotflag=False,recycled_cat=culled_cat)\n",
    "\n",
    "fig,ax = plt.subplots(figsize=(16,9))\n",
    "\n",
    "ax.plot(ras,decs,\"k.\",ms=2)\n",
    "ax.plot(ras[mags<15],decs[mags<15],\"r.\")\n",
    "\n",
    "#ax.invert_xaxis()\n",
    "\n",
    "fig,ax = plt.subplots(figsize=(16,9))\n",
    "ax.plot(chip_xxs[mags<18],chip_yys[mags<18],\"k.\",ms=2)\n",
    "ax.plot(chip_xxs[mags<15],chip_yys[mags<15],\"r.\")\n"
   ]
  },
  {
   "cell_type": "code",
   "execution_count": null,
   "metadata": {},
   "outputs": [],
   "source": []
  }
 ],
 "metadata": {
  "kernelspec": {
   "display_name": "Python 3",
   "language": "python",
   "name": "python3"
  },
  "language_info": {
   "codemirror_mode": {
    "name": "ipython",
    "version": 3
   },
   "file_extension": ".py",
   "mimetype": "text/x-python",
   "name": "python",
   "nbconvert_exporter": "python",
   "pygments_lexer": "ipython3",
   "version": "3.6.8"
  }
 },
 "nbformat": 4,
 "nbformat_minor": 4
}
