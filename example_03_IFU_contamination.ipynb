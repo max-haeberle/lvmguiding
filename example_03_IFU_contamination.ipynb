{
 "cells": [
  {
   "cell_type": "code",
   "execution_count": null,
   "metadata": {},
   "outputs": [],
   "source": [
    "from astropy.coordinates import SkyCoord\n",
    "import numpy as np\n",
    "\n",
    "import lvmguiding\n",
    "import time\n",
    "import matplotlib\n",
    "import matplotlib.pyplot as plt\n",
    "import sys\n",
    "sys.path.insert(1, 'lvmifusim/')\n",
    "import IFU\n",
    "\n",
    "my_ifu = IFU.IFU(25)"
   ]
  },
  {
   "cell_type": "markdown",
   "metadata": {},
   "source": [
    "## Load Gaia Stars and convert their positions to focal plane coordinates"
   ]
  },
  {
   "cell_type": "code",
   "execution_count": null,
   "metadata": {},
   "outputs": [],
   "source": [
    "coordinates_crowded = SkyCoord(270.48085943, -28.45945724,unit=\"deg\")\n",
    "coordinates_median = SkyCoord(195.10462204, -55.248677,unit=\"deg\")\n",
    "coordinates_empty = SkyCoord(184.18604651, 15.16853933,unit=\"deg\")"
   ]
  },
  {
   "cell_type": "code",
   "execution_count": null,
   "metadata": {},
   "outputs": [],
   "source": [
    "darks_coordinates = np.loadtxt(\"southern_darks.ascii\")"
   ]
  },
  {
   "cell_type": "code",
   "execution_count": null,
   "metadata": {},
   "outputs": [],
   "source": [
    "darks_coordinates.shape"
   ]
  },
  {
   "cell_type": "code",
   "execution_count": null,
   "metadata": {},
   "outputs": [],
   "source": [
    "dark_index = 22\n",
    "\n",
    "coordinates_dark = SkyCoord(darks_coordinates[dark_index,1],darks_coordinates[dark_index,2],unit=\"deg\")\n",
    "\n",
    "print(coordinates_dark)"
   ]
  },
  {
   "cell_type": "code",
   "execution_count": null,
   "metadata": {},
   "outputs": [],
   "source": [
    "print(coordinates_crowded)"
   ]
  },
  {
   "cell_type": "code",
   "execution_count": null,
   "metadata": {},
   "outputs": [],
   "source": [
    "culled_cat"
   ]
  },
  {
   "cell_type": "code",
   "execution_count": null,
   "metadata": {},
   "outputs": [],
   "source": []
  },
  {
   "cell_type": "code",
   "execution_count": null,
   "metadata": {},
   "outputs": [],
   "source": [
    "#dd_x_mm,dd_y_mm,culled_cat = lvmguiding.find_guide_stars(coordinates_crowded,pa=0,plotflag=False,return_focal_plane_coords=True)\n",
    "\n",
    "c = coordinates_dark\n",
    "custom_maglim = 17\n",
    "\n",
    "maglim = custom_maglim\n",
    "lvmguiding.mag_lim_lower = custom_maglim\n",
    "time0 = time.time()\n",
    "dd_x_mm,dd_y_mm,culled_cat = lvmguiding.find_guide_stars(c,pa=0,plotflag=False,return_focal_plane_coords=True,remote_catalog=False,remote_maglim=custom_maglim)\n",
    "time1 = time.time()\n",
    "print(\"Findin the stars in the focal plane within the Gaia catalog took {:.1f} s\".format(time1-time0))\n",
    "print()\n",
    "\n",
    "\n",
    "\n",
    "\n",
    "\n",
    "print(\"Coordinates: \",c)\n",
    "selection_mag = culled_cat[\"phot_g_mean_mag\"] < maglim\n",
    "print(\"Number of sources in focal plane: \",len(dd_x_mm))\n",
    "print(\"Stars that pass mag selection: \",np.sum(selection_mag))"
   ]
  },
  {
   "cell_type": "code",
   "execution_count": null,
   "metadata": {},
   "outputs": [],
   "source": [
    "# Define the IFU\n",
    "\n",
    "my_ifu = IFU.IFU(24)"
   ]
  },
  {
   "cell_type": "code",
   "execution_count": null,
   "metadata": {},
   "outputs": [],
   "source": [
    "fig,(ax1,ax2) = plt.subplots(figsize=(20,12),ncols=2)\n",
    "\n",
    "\n",
    "lens_radii = 0.315/2 * np.ones_like(my_ifu.lensx) #This comes from PDR Document, Figure 4\n",
    "contaminated = np.array(my_ifu.lensx) < -999\n",
    "time0 = time.time()\n",
    "\n",
    "for i in range(len(my_ifu.lensx)):\n",
    "    current_x = my_ifu.lensx[i]\n",
    "    current_y = my_ifu.lensy[i]\n",
    "    current_r = lens_radii[i]\n",
    "    \n",
    "    d2 = (current_x-dd_x_mm[selection_mag])**2+(current_y-dd_y_mm[selection_mag])**2\n",
    "    \n",
    "    if d2.min() < current_r**2:\n",
    "        #print(\"Star in fiber \",i)\n",
    "        circle = plt.Circle((current_x,current_y),current_r,facecolor=\"r\",alpha=0.5)\n",
    "        ax2.add_patch(circle)\n",
    "        contaminated[i]=True\n",
    "#    my_circle = plt.Circle((my_ifu.lensx[index],my_ifu.lensy[index]),my_ifu.lensr[index],color=\"r\")\n",
    "#    ax1.add_patch(my_circle)\n",
    "time1 = time.time()\n",
    "\n",
    "print(\"Neighbour search took {:6.2}s\".format(time1-time0))\n",
    "\n",
    "\n",
    "fig.suptitle(\"Pointing Coordinates:\\nRA: {:.6f}\\nDEC: {:.6f}\\n\\nMag. Lim: {} gmag\".format(c.ra,c.dec,maglim))\n",
    "ax1.set_title(\"Full focal plane\\nN Sources: {}\".format(len(dd_x_mm)))\n",
    "\n",
    "\n",
    "ax1.set_xlabel(\"Focal plane x [mm]\")\n",
    "ax1.set_ylabel(\"Focal plane y [mm]\")\n",
    "ax2.set_xlabel(\"Focal plane x [mm]\")\n",
    "ax2.set_ylabel(\"Focal plane y [mm]\")\n",
    "\n",
    "ax1.plot(dd_x_mm,dd_y_mm,\"ko\",ms=1)\n",
    "ax1.plot(my_ifu.lensx,my_ifu.lensy,\"bo\",ms=1)\n",
    "ax1.plot(np.array(my_ifu.lensx)[contaminated],np.array(my_ifu.lensy)[contaminated],\"ro\",ms=1)\n",
    "ax1.set_aspect(\"equal\")\n",
    "\n",
    "\n",
    "ax2.set_xlim(-8,8)\n",
    "ax2.set_ylim(-8,8)\n",
    "ax2.set_aspect(\"equal\")\n",
    "\n",
    "patches = [plt.Circle(center, size) for center, size in zip(np.stack((my_ifu.lensx,my_ifu.lensy),axis=1),lens_radii)]\n",
    "\n",
    "#\n",
    "coll = matplotlib.collections.PatchCollection(patches, facecolors='none',edgecolor=\"b\")\n",
    "ax2.add_collection(coll)\n",
    "\n",
    "ax2.plot(dd_x_mm,dd_y_mm,\"ko\",ms=2)\n",
    "#ax2.plot(dd_x_mm[selection_mag],dd_y_mm[selection_mag],\"ko\",ms=4)\n",
    "\n",
    "\n",
    "ax2.set_title(\"IFU\\n{} of {} ({:.1f}%) fibers are contaminated with stars brighter {} gmag\".format(np.sum(contaminated),len(contaminated),100*np.sum(contaminated)/len(contaminated),maglim))\n",
    "\n",
    "circle = plt.Circle((-7,7),current_r,facecolor=\"none\",edgecolor=\"b\",alpha=0.5)\n",
    "ax2.add_patch(circle)\n",
    "circle = plt.Circle((-7,6.5),current_r,facecolor=\"r\",alpha=0.5)\n",
    "ax2.add_patch(circle)\n",
    "ax2.text(-6.5,7,\"Star-free Fiber\".format(maglim))\n",
    "ax2.text(-6.5,6.5,\"Contaminated Fiber\".format(maglim))\n",
    "\n",
    "\n",
    "\n",
    "\n",
    "\n",
    "\n",
    "#fig.savefig(\"dark_patch_stellar_contamination.png\",dpi=200,bbox_inches=\"tight\",facecolor=\"w\")"
   ]
  },
  {
   "cell_type": "code",
   "execution_count": null,
   "metadata": {},
   "outputs": [],
   "source": [
    "color_array=[\"r\",\"g\",\"b\",\"r\",\"g\",\"b\"]\n",
    "\n",
    "\n",
    "fig,ax = plt.subplots(figsize=(12,12))\n",
    "\n",
    "for index,pa in enumerate([0,60,120,180,240,300]):\n",
    "        print(\"PA: \",pa)\n",
    "        if pa==0:\n",
    "            culled_cat=lvmguiding.cat_full\n",
    "        ras,decs,dd_x_mm,dd_y_mm,chip_xxs,chip_yys,mags,culled_cat = lvmguiding.find_guide_stars(c,pa=pa,plotflag=False,recycled_cat=culled_cat)\n",
    "        \n",
    "        if pa==0:\n",
    "            ax.plot(culled_cat[\"ra\"],culled_cat[\"dec\"],\"k.\",ms=1)\n",
    "        ax.plot(ras,decs,\".\",c=color_array[index],label=\"PA = \"+str(pa)+\" deg\")\n",
    "        \n",
    "ax.legend()\n",
    "\n",
    "ax.set_xlabel(\"RA [deg]\")\n",
    "ax.set_ylabel(\"DEC [deg]\")\n",
    "ax.invert_xaxis()"
   ]
  },
  {
   "cell_type": "markdown",
   "metadata": {},
   "source": [
    "## Save IFUs in a textfile for temporary stand alone version:"
   ]
  },
  {
   "cell_type": "code",
   "execution_count": null,
   "metadata": {},
   "outputs": [],
   "source": [
    "output = np.stack((my_ifu.lensx,my_ifu.lensy,lens_radii),axis=1)"
   ]
  },
  {
   "cell_type": "code",
   "execution_count": null,
   "metadata": {},
   "outputs": [],
   "source": [
    "output.shape"
   ]
  },
  {
   "cell_type": "code",
   "execution_count": null,
   "metadata": {},
   "outputs": [],
   "source": [
    "np.savetxt(\"ifu_positions.xyr\",output,fmt=\"%12.4f\")"
   ]
  },
  {
   "cell_type": "code",
   "execution_count": null,
   "metadata": {},
   "outputs": [],
   "source": []
  },
  {
   "cell_type": "code",
   "execution_count": null,
   "metadata": {},
   "outputs": [],
   "source": [
    "https://wiki.sdss.org/pages/viewpage.action?spaceKey=LVM&title=GeoCoronal+Emission"
   ]
  }
 ],
 "metadata": {
  "kernelspec": {
   "display_name": "Python 3",
   "language": "python",
   "name": "python3"
  },
  "language_info": {
   "codemirror_mode": {
    "name": "ipython",
    "version": 3
   },
   "file_extension": ".py",
   "mimetype": "text/x-python",
   "name": "python",
   "nbconvert_exporter": "python",
   "pygments_lexer": "ipython3",
   "version": "3.6.8"
  }
 },
 "nbformat": 4,
 "nbformat_minor": 4
}
