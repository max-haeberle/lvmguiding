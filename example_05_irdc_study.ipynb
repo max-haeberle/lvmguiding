{
 "cells": [
  {
   "cell_type": "markdown",
   "metadata": {
    "tags": []
   },
   "source": [
    "# LVM Guide Star Catalog using the new library"
   ]
  },
  {
   "cell_type": "code",
   "execution_count": null,
   "metadata": {},
   "outputs": [],
   "source": [
    "import lvmguiding\n",
    "import numpy as np\n",
    "import os\n",
    "import matplotlib.pyplot as plt\n",
    "import time\n",
    "from astropy.coordinates import SkyCoord\n",
    "from importlib import reload\n",
    "from matplotlib.colors import LogNorm\n",
    "import matplotlib\n",
    "import healpy as hp\n",
    "from astropy.io import fits\n",
    "import astropy.units as u\n",
    "import scipy.spatial\n",
    "from matplotlib.patches import Ellipse"
   ]
  },
  {
   "cell_type": "code",
   "execution_count": null,
   "metadata": {},
   "outputs": [],
   "source": [
    "import sys\n",
    "sys.path.insert(1, 'lvmifusim/')\n",
    "import IFU"
   ]
  },
  {
   "cell_type": "code",
   "execution_count": null,
   "metadata": {},
   "outputs": [],
   "source": [
    "reload(lvmguiding)"
   ]
  },
  {
   "cell_type": "code",
   "execution_count": null,
   "metadata": {},
   "outputs": [],
   "source": [
    "lvmguiding.cat_full.shape"
   ]
  },
  {
   "cell_type": "code",
   "execution_count": null,
   "metadata": {},
   "outputs": [],
   "source": [
    "irdc_data = np.loadtxt(\"target_db_run072021a_v2.tbl\",skiprows=1)"
   ]
  },
  {
   "cell_type": "markdown",
   "metadata": {},
   "source": [
    "## Creating the pointing list"
   ]
  },
  {
   "cell_type": "code",
   "execution_count": null,
   "metadata": {},
   "outputs": [],
   "source": [
    "!pwd"
   ]
  },
  {
   "cell_type": "markdown",
   "metadata": {},
   "source": [
    "## Making some example plots"
   ]
  },
  {
   "cell_type": "code",
   "execution_count": null,
   "metadata": {},
   "outputs": [],
   "source": [
    "irdc_data.shape"
   ]
  },
  {
   "cell_type": "code",
   "execution_count": null,
   "metadata": {},
   "outputs": [],
   "source": [
    "\n",
    "#The old dark list... Let's do not use that anymore\n",
    "darks_coordinates = np.loadtxt(\"southern_darks.ascii\")\n",
    "dark_index = 0 #Pick which of the southern darks you want to use\n",
    "ra_irdc = darks_coordinates[dark_index,1]\n",
    "dec_irdc = darks_coordinates[dark_index,2]\n",
    "#coordinates_dark = SkyCoord(darks_coordinates[dark_index,1],darks_coordinates[dark_index,2],unit=\"deg\")\n",
    "\n",
    "#print(coordinates_dark)"
   ]
  },
  {
   "cell_type": "code",
   "execution_count": null,
   "metadata": {},
   "outputs": [],
   "source": [
    "#What is going on at <SkyCoord (ICRS): (ra, dec) in deg\n",
    "#    (80.01870621, -68.35233157)>\n",
    "\n",
    "#coordinates_crowded = SkyCoord(270.48085943, -28.45945724,unit=\"deg\")\n",
    "#coordinates_median = SkyCoord(195.10462204, -55.248677,unit=\"deg\")\n",
    "#coordinates_empty = SkyCoord(184.18604651, 15.16853933,unit=\"deg\")\n",
    "\n",
    "irdc_index =0\n",
    "\n",
    "irdc_identifier = int(irdc_data[irdc_index,0])\n",
    "\n",
    "ra_irdc = irdc_data[irdc_index,1]\n",
    "dec_irdc = irdc_data[irdc_index,2]\n",
    "\n",
    "\n",
    "print(\"Identifier: \",irdc_identifier)\n",
    "print(\"Coordinates: \",ra_irdc,dec_irdc)\n",
    "print(\"Radius: \",irdc_data[irdc_index,7],\"arcsec = \",irdc_data[irdc_index,7]/3600,\" deg\")\n",
    "\n",
    "irdc_r = irdc_data[irdc_index,7] / 3600\n",
    "\n",
    "c_cloud = SkyCoord(ra_irdc,dec_irdc,unit=\"deg\")\n"
   ]
  },
  {
   "cell_type": "code",
   "execution_count": null,
   "metadata": {
    "tags": []
   },
   "outputs": [],
   "source": [
    "width = 0.5 #deg\n",
    "\n",
    "n = 150#\n",
    "\n",
    "y = np.linspace(-0.5*width, 0.5*width,n)\n",
    "\n",
    "x = np.linspace(-0.5/np.cos(np.deg2rad(dec_irdc))*width,0.5/np.cos(np.deg2rad(dec_irdc))*width,n)\n",
    "\n",
    "xx, yy = np.meshgrid(x, y, sparse=False)\n",
    "\n",
    "\n",
    "ras2 = ra_irdc+ xx.flatten()\n",
    "decs2 = dec_irdc + yy.flatten()\n",
    "\n",
    "ras2u = ras2*u.deg\n",
    "decs2u= decs2*u.deg\n",
    "\n",
    "coordinate_list = SkyCoord(ras2u,decs2u)\n",
    "#coordinate_list = []\n",
    "#for i in range(len(ras2)):\n",
    "#    coordinate_list.append(SkyCoord(ras2[i],decs2[i],unit=\"deg\"))\n",
    "    \n",
    "print(\"I will check {} different pointings.\".format(len(coordinate_list)))"
   ]
  },
  {
   "cell_type": "code",
   "execution_count": null,
   "metadata": {},
   "outputs": [],
   "source": [
    "\n",
    "if False:\n",
    "    my_instrument = lvmguiding.InstrumentParameters()\n",
    "    #my_instrument.outer_search_radiust(np.sqrt(2)*width/2)\n",
    "    my_instrument.mag_lim_lower = 21 #If you use a value higher than 17 here, make sure to remote-query the Gaia catalog\n",
    "    remote_query = True\n",
    "\n",
    "\n",
    "    dd_x_mm,dd_y_mm,culled_cat_full = lvmguiding.find_guide_stars(c_cloud,pa=0,plotflag=False,return_focal_plane_coords=True,remote_catalog=remote_query,inst=my_instrument)\n",
    "    time1 = time.time()\n",
    "    #print(\"Finding the stars in the focal plane within the Gaia catalog took {:.1f} s\".format(time1-time0))\n",
    "    print()\n",
    "    print(\"There are {} sources in the catalog\".format(len(culled_cat2)))\n",
    "    culled_cat2 = culled_cat_full[culled_cat_full[\"phot_g_mean_mag\"]<19]\n",
    "    print(\"There are {} sources in the catalog\".format(len(culled_cat2)))"
   ]
  },
  {
   "cell_type": "code",
   "execution_count": null,
   "metadata": {},
   "outputs": [],
   "source": [
    "#my_instrument = lvmguiding.InstrumentParameters()\n",
    "#my_instrument.outer_search_radius = 0.1#\n",
    "\n",
    "my_instrument = lvmguiding.InstrumentParameters()\n",
    "my_instrument.outer_search_radius = 1.1*np.sqrt(2)*width/2\n",
    "my_instrument.mag_lim_lower = 21 #If you use a value higher than 17 here, make sure to remote-query the Gaia catalog\n",
    "#remote_query = True\n",
    "\n",
    "\n",
    "t0 = time.time()\n",
    "data_combined = lvmguiding.get_cat_using_healpix2(c_cloud,plotflag=True,inst=my_instrument)\n",
    "#ras,decs,dd_x_mm,dd_y_mm,chip_xxs,chip_yys,mags,culled_cat = lvmguiding.find_guide_stars(c_cloud,pa=0,recycled_cat=data_combined)\n",
    "t1 = time.time()\n",
    "print()\n",
    "print(\"Duration using healpix preselection: {:.4f} s\".format(t1-t0))\n",
    "\n",
    "\n",
    "#t0 = time.time()\n",
    "#data_combined = get_cat_using_healpix(c)\n",
    "#ras,decs,dd_x_mm,dd_y_mm,chip_xxs,chip_yys,mags,culled_cat = lvmguiding.find_guide_stars(c_cloud,pa=0,plotflag=False,recycled_cat=culled_cat)#,inst=my_instrument\n",
    "#t1 = time.time()\n",
    "#print()\n",
    "#print(\"Duration using preselected Gaia cat: {:.4f} s\".format(t1-t0))\n",
    "                                                                                         \n",
    "\n",
    "    \n",
    "    \n",
    "t0 = time.time()\n",
    "#data_combined = get_cat_using_healpix(c)\n",
    "dd_x_mm,dd_y_mm,culled_cat2= lvmguiding.find_guide_stars(c_cloud,pa=0,plotflag=False,recycled_cat=data_combined,return_focal_plane_coords=True,inst=my_instrument)\n",
    "t1 = time.time()\n",
    "print()\n",
    "print(\"Duration using preselected Gaia and only doing conversion to coordinates: {:.4f} s\".format(t1-t0))\n",
    "print(\"There are {} sources in the catalog\".format(len(culled_cat2)))\n",
    "\n",
    "second_stage_mag_lim = 99\n",
    "culled_cat2 = culled_cat2[culled_cat2[\"phot_g_mean_mag\"]<second_stage_mag_lim]\n",
    "print(\"There are {} sources in the catalog\".format(len(culled_cat2)))\n"
   ]
  },
  {
   "cell_type": "code",
   "execution_count": null,
   "metadata": {},
   "outputs": [],
   "source": [
    "# Define the IFU, it has to be doubled checked whether the used lens radius is alright and whether the IFU lib produces the correct results\n",
    "\n",
    "my_ifu = IFU.IFU(4) \n",
    "lens_radii = 0.315/2 * np.ones_like(my_ifu.lensx) #This comes from PDR Document, Figure 4"
   ]
  },
  {
   "cell_type": "code",
   "execution_count": null,
   "metadata": {},
   "outputs": [],
   "source": [
    "ifu_point_list = []\n",
    "\n",
    "for i in range(len(my_ifu.lensx)):\n",
    "    current_x = my_ifu.lensx[i]\n",
    "    current_y = my_ifu.lensy[i]\n",
    "    \n",
    "    ifu_point_list.append((current_x,current_y))\n"
   ]
  },
  {
   "cell_type": "code",
   "execution_count": null,
   "metadata": {},
   "outputs": [],
   "source": [
    "fig,ax = plt.subplots()\n",
    "ax.plot(data_combined[\"ra\"],data_combined[\"dec\"],\"r.\")\n",
    "ax.plot(culled_cat2[\"ra\"],culled_cat2[\"dec\"],\"k.\")"
   ]
  },
  {
   "cell_type": "code",
   "execution_count": null,
   "metadata": {},
   "outputs": [],
   "source": [
    "my_instrument.outer_search_radius"
   ]
  },
  {
   "cell_type": "code",
   "execution_count": null,
   "metadata": {},
   "outputs": [],
   "source": [
    "plotflag= True\n",
    "\n",
    "dd_x_mm,dd_y_mm,culled_cat= lvmguiding.find_guide_stars(c_cloud,pa=0,plotflag=False,recycled_cat=culled_cat2,return_focal_plane_coords=True,inst=my_instrument)\n",
    "\n",
    "nmax=10\n",
    "data_dict={}\n",
    "data_dict[\"x\"] = dd_x_mm#[selection_mag]#.filled() \n",
    "data_dict[\"y\"] = dd_y_mm#[selection_mag]#.filled() \n",
    "data_dict[\"m\"] = culled_cat[\"phot_g_mean_mag\"]#[selection_mag]\n",
    "m_array = np.concatenate((np.array(data_dict[\"m\"]),np.array([float(\"nan\")])))\n",
    "#print(\"Creating Tree...\")\n",
    "t0 = time.time()\n",
    "#xy_list = np.vstack((dd_x_mm[selection_mag].filled(),dd_y_mm[selection_mag].filled())).T\n",
    "xy_list = np.vstack((data_dict[\"x\"],data_dict[\"y\"])).T\n",
    "YourTreeName = scipy.spatial.cKDTree(xy_list, leafsize=100)\n",
    "t1 = time.time()\n",
    "#print(\"... done! Time: {:.4f} s\".format(t1-t0))\n",
    "\n",
    "\n",
    "\n",
    "query_result = YourTreeName.query(ifu_point_list, k=nmax, distance_upper_bound=lens_radii[0])#\n",
    "\n",
    "contaminated = np.isfinite(query_result[0][:,0])\n",
    "\n",
    "current_r = lens_radii[0]\n",
    "\n",
    "if plotflag:\n",
    "    fig,(ax1,ax2) = plt.subplots(figsize=(20,12),ncols=2)\n",
    "    fig.suptitle(\"Pointing Coordinates:\\nRA: {:.6f}\\nDEC: {:.6f}\\n\\nMag. Lim: {} gmag\".format(c_cloud.ra,c_cloud.dec,second_stage_mag_lim))\n",
    "    ax1.set_title(\"Full focal plane\\nN Sources: {}\".format(len(dd_x_mm)))\n",
    "\n",
    "\n",
    "    ax1.set_xlabel(\"Focal plane x [mm]\")\n",
    "    ax1.set_ylabel(\"Focal plane y [mm]\")\n",
    "    ax2.set_xlabel(\"Focal plane x [mm]\")\n",
    "    ax2.set_ylabel(\"Focal plane y [mm]\")\n",
    "\n",
    "    ax1.plot(dd_x_mm,dd_y_mm,\"ko\",ms=1)\n",
    "    ax1.plot(my_ifu.lensx,my_ifu.lensy,\"bo\",ms=1)\n",
    "    ax1.plot(np.array(my_ifu.lensx)[contaminated],np.array(my_ifu.lensy)[contaminated],\"ro\",ms=1)\n",
    "    ax1.set_aspect(\"equal\")\n",
    "\n",
    "\n",
    "    ax2.set_xlim(-8,8)\n",
    "    ax2.set_ylim(-8,8)\n",
    "    ax2.set_aspect(\"equal\")\n",
    "\n",
    "    patches = [plt.Circle(center, size) for center, size in zip(np.stack((my_ifu.lensx,my_ifu.lensy),axis=1),lens_radii)]\n",
    "\n",
    "    patches_contaminated = [plt.Circle(center,size) for center, size in zip(np.stack((np.array(my_ifu.lensx)[contaminated],np.array(my_ifu.lensy)[contaminated]),axis=1),lens_radii[contaminated])]\n",
    "\n",
    "\n",
    "    #\n",
    "    coll = matplotlib.collections.PatchCollection(patches, facecolors='none',edgecolor=\"b\")\n",
    "    coll2 = matplotlib.collections.PatchCollection(patches_contaminated, facecolors='r',alpha=0.5)\n",
    "    ax2.add_collection(coll)\n",
    "    ax2.add_collection(coll2)\n",
    "\n",
    "    ax2.plot(dd_x_mm,dd_y_mm,\"ko\",ms=2)\n",
    "    #ax2.plot(dd_x_mm[selection_mag],dd_y_mm[selection_mag],\"ko\",ms=4)\n",
    "\n",
    "\n",
    "    ax2.set_title(\"IFU\\n{} of {} ({:.1f}%) fibers are contaminated with stars brighter {} gmag\".format(np.sum(contaminated),len(contaminated),100*np.sum(contaminated)/len(contaminated),second_stage_mag_lim))\n",
    "\n",
    "    circle = plt.Circle((-7,7),current_r,facecolor=\"none\",edgecolor=\"b\",alpha=0.5)\n",
    "    ax2.add_patch(circle)\n",
    "    circle = plt.Circle((-7,6.5),current_r,facecolor=\"r\",alpha=0.5)\n",
    "    ax2.add_patch(circle)\n",
    "    \n",
    "    #circle = plt.Circle((0,0),1.4,facecolor=\"r\",alpha=0.5)\n",
    "    #ax2.add_patch(circle)\n",
    "    \n",
    "    ax2.text(-6.5,7,\"Star-free Fiber\")#.format(maglim))\n",
    "    ax2.text(-6.5,6.5,\"Contaminated Fiber\")#.format(maglim)\n",
    "    \n",
    "fig.savefig(\"irdc_results/{:09d}_fiber_view.png\".format(irdc_identifier),dpi=200,bbox_inches=\"tight\")"
   ]
  },
  {
   "cell_type": "code",
   "execution_count": null,
   "metadata": {},
   "outputs": [],
   "source": [
    "my_instrument.mag_lim_lower = 21"
   ]
  },
  {
   "cell_type": "code",
   "execution_count": null,
   "metadata": {
    "tags": []
   },
   "outputs": [],
   "source": [
    "\n",
    "ratios = []\n",
    "\n",
    "combined_neighbour_array = []\n",
    "\n",
    "my_instrument2 = my_instrument\n",
    "my_instrument2.upper_search_radius = 0.1\n",
    "\n",
    "for index,c in enumerate(coordinate_list):\n",
    "    dd_x_mm,dd_y_mm,culled_cat= lvmguiding.find_guide_stars(c,pa=0,plotflag=False,recycled_cat=culled_cat2,return_focal_plane_coords=True,inst=my_instrument2)\n",
    "    \n",
    "    nmax=10\n",
    "    data_dict={}\n",
    "    data_dict[\"x\"] = dd_x_mm#[selection_mag]#.filled() \n",
    "    data_dict[\"y\"] = dd_y_mm#[selection_mag]#.filled() \n",
    "    data_dict[\"m\"] = culled_cat[\"phot_g_mean_mag\"]#[selection_mag]\n",
    "    m_array = np.concatenate((np.array(data_dict[\"m\"]),np.array([float(\"nan\")])))\n",
    "    #print(\"Creating Tree...\")\n",
    "    t0 = time.time()\n",
    "    #xy_list = np.vstack((dd_x_mm[selection_mag].filled(),dd_y_mm[selection_mag].filled())).T\n",
    "    xy_list = np.vstack((data_dict[\"x\"],data_dict[\"y\"])).T\n",
    "    YourTreeName = scipy.spatial.cKDTree(xy_list, leafsize=100)\n",
    "    t1 = time.time()\n",
    "    #print(\"... done! Time: {:.4f} s\".format(t1-t0))\n",
    "    \n",
    "    \n",
    "    \n",
    "    query_result = YourTreeName.query(ifu_point_list, k=nmax, distance_upper_bound=lens_radii[0])#\n",
    "    \n",
    "    contaminated = np.isfinite(query_result[0][:,0])\n",
    "    \n",
    "    m_neighbours = m_array[query_result[1]]\n",
    "    flux_neighbours = 10**(-0.4*m_neighbours)\n",
    "    flux_combined = np.nansum(flux_neighbours,axis=1)\n",
    "    m_combined = -2.5*np.log10(flux_combined)\n",
    "    \n",
    "    combined_neighbour_array.append(m_combined)\n",
    "    \n",
    "    #print(\"Ratio of contaminated pixels: \",np.sum(contaminated)/len(contaminated))\n",
    "    ratios.append(np.sum(contaminated)/len(contaminated))\n",
    "    \n",
    "    print(index,len(coordinate_list),end=\"\\r\")\n",
    "    \n",
    "print()"
   ]
  },
  {
   "cell_type": "code",
   "execution_count": null,
   "metadata": {},
   "outputs": [],
   "source": []
  },
  {
   "cell_type": "code",
   "execution_count": null,
   "metadata": {},
   "outputs": [],
   "source": [
    "print(irdc_r)"
   ]
  },
  {
   "cell_type": "code",
   "execution_count": null,
   "metadata": {},
   "outputs": [],
   "source": [
    "coordinate_list[min_index].ra.value"
   ]
  },
  {
   "cell_type": "code",
   "execution_count": null,
   "metadata": {},
   "outputs": [],
   "source": [
    "min_index = np.argmin(image[indices_in_radius])"
   ]
  },
  {
   "cell_type": "code",
   "execution_count": null,
   "metadata": {},
   "outputs": [],
   "source": [
    "coordinate_list.ra.value[indices_in_radius.flatten()][min_index]"
   ]
  },
  {
   "cell_type": "code",
   "execution_count": null,
   "metadata": {},
   "outputs": [],
   "source": [
    "best_xx = xx[indices_in_radius][min_index]"
   ]
  },
  {
   "cell_type": "code",
   "execution_count": null,
   "metadata": {
    "tags": []
   },
   "outputs": [],
   "source": [
    "min_mags = np.arange(10,22,1)\n",
    "\n",
    "fig,axarr = plt.subplots(figsize=(20,20),ncols=4,nrows=3)\n",
    "\n",
    "fig.suptitle(\"Cloud ID: {}\\nPointing Coordinates:\\nRA: {:.6f}\\nDEC: {:.6f}\\n\".format(irdc_identifier,c_cloud.ra,c_cloud.dec))\n",
    "    \n",
    "\n",
    "outfile = open(\"irdc_results/{:09d}_contamination.txt\".format(irdc_identifier),\"w\")\n",
    "    \n",
    "\n",
    "for index,ax in enumerate(axarr.flatten()):\n",
    "    mag_lim = min_mags[index]\n",
    "    \n",
    "    \n",
    "    \n",
    "    \n",
    "    \n",
    "   \n",
    "    \n",
    "    image = np.reshape(np.sum(np.array(combined_neighbour_array)<mag_lim,axis=1),xx.shape)/len(ifu_point_list)\n",
    "    \n",
    "    indices_in_radius = (xx*np.cos(np.deg2rad(dec_irdc)))**2+yy**2 < irdc_r**2\n",
    "    \n",
    "    min_index = np.argmin(image[indices_in_radius])\n",
    "    \n",
    "    best_cont = image[indices_in_radius][min_index]\n",
    "    best_xx = xx[indices_in_radius][min_index]\n",
    "    best_yy = yy[indices_in_radius][min_index]\n",
    "    best_ra = coordinate_list.ra.value[indices_in_radius.flatten()][min_index]\n",
    "    best_dec = coordinate_list.dec.value[indices_in_radius.flatten()][min_index]\n",
    "    best_c = image[indices_in_radius][min_index]\n",
    "    \n",
    "    print(\"Maglim: {:12.6f} Cont: {:12.6f} Best RA: {:12.6f} Best DEC: {:12.6f} Best dx: {:12.6f} Best dy: {:12.6f}\".format(mag_lim,best_cont,best_ra,best_dec,best_xx,best_yy))\n",
    "    outfile.write(\"{:12.6f} {:12.6f} {:12.6f} {:12.6f} {:12.6f} {:12.6f}\\n\".format(mag_lim,best_cont,best_ra,best_dec,best_xx,best_yy))\n",
    "    ax.set_title(\"Maglim: \"+str(mag_lim)+\"\\nBest Coordinates (Contamination = {:2f})\\nRA: {:.6f}\\nDEC: {:.6f}\\n\".format(best_cont,best_ra,best_dec))\n",
    "    #image[indices_in_radius] = float(\"nan\")\n",
    "    \n",
    "    myplot = ax.imshow(image,origin=\"lower\",extent=(ras2.min(),ras2.max(),decs2.min(),decs2.max()),aspect=1/np.cos(np.deg2rad(dec_irdc)))\n",
    "    mycb = fig.colorbar(myplot,ax=ax,fraction=0.046, pad=0.04)\n",
    "    \n",
    "    ax.plot(best_ra,best_dec,\"rx\",ms=10)\n",
    "    \n",
    "    mycb.set_label(\"Contamination fraction\")\n",
    "    \n",
    "    ax.set_xlim(ras2.min(),ras2.max())\n",
    "    ax.set_ylim(decs2.min(),decs2.max())\n",
    "    \n",
    "    ax.plot(culled_cat2[\"ra\"][culled_cat2[\"phot_g_mean_mag\"]<mag_lim],culled_cat2[\"dec\"][culled_cat2[\"phot_g_mean_mag\"]<mag_lim],\"w.\",ms=2)\n",
    "    ax.axhline(dec_irdc,color=\"r\")\n",
    "    ax.axvline(ra_irdc,color=\"r\")\n",
    "\n",
    "    #ax2.axvline(ra_irdc-irdc_r/np.cos(np.deg2rad(dec_irdc)),color=\"r\")\n",
    "    #ax2.axvline(ra_irdc+irdc_r/np.cos(np.deg2rad(dec_irdc)),color=\"r\")\n",
    "\n",
    "    ax.set_xlabel(\"RA\")\n",
    "    ax.set_ylabel(\"DEC\")\n",
    "    \n",
    "    my_ellipse = Ellipse(xy=(ra_irdc,dec_irdc),height = 2*irdc_r,width=2*irdc_r/np.cos(np.deg2rad(dec_irdc)),facecolor=\"None\",edgecolor=\"r\")\n",
    "    ax.add_patch(my_ellipse)\n",
    "    \n",
    "    ax.text(ra_irdc+0.1/np.cos(np.deg2rad(dec_irdc)),dec_irdc-0.1,\"Cloud Radius\",ha=\"center\",va=\"center\",color=\"r\")\n",
    "outfile.close()\n",
    "fig.tight_layout()\n",
    "    \n",
    "#fig.savefig(\"/home/haeberle/exchange/example_cloud_0_not_prominent.png\",dpi=200,bbox_inches=\"tight\",facecolor=\"w\",backgroundcolor=\"w\")\n",
    "    \n",
    "if False:    \n",
    "    #fig,ax2 = plt.subplots(figsize=(10,10))\n",
    "\n",
    "    #ax1.axhline(irdc_data[irdc_index,2],color=\"r\")\n",
    "    #ax1.axvline(irdc_data[irdc_index,1],color=\"r\")\n",
    "\n",
    "\n",
    "\n",
    "    #myplot = ax1.scatter(ras2,decs2,c=ratios,s=20,marker=\".\")\n",
    "\n",
    "    ax2.plot(culled_cat2[\"ra\"],culled_cat2[\"dec\"],\"r.\",ms=2)\n",
    "\n",
    "    #ax1.set_xlim(ras2.min(),ras2.max())\n",
    "    #ax1.set_ylim(decs2.min(),decs2.max())\n",
    "    #fig.colorbar(myplot,ax=ax1)\n",
    "    myplot1 = ax1.imshow(image1,origin=\"lower\",extent=(ras2.min(),ras2.max(),decs2.min(),decs2.max()),aspect=1/np.cos(np.deg2rad(dec_irdc)))\n",
    "    myplot2 = ax2.imshow(image2,origin=\"lower\",extent=(ras2.min(),ras2.max(),decs2.min(),decs2.max()),aspect=1/np.cos(np.deg2rad(dec_irdc)))\n",
    "    #my_circle = plt.Circle(xy=(ra_irdc,dec_irdc),radius=irdc_r,facecolor=\"None\",edgecolor=\"r\")\n",
    "    my_ellipse = Ellipse(xy=(ra_irdc,dec_irdc),height = 2*irdc_r,width=2*irdc_r/np.cos(np.deg2rad(dec_irdc)),facecolor=\"None\",edgecolor=\"r\")\n",
    "\n",
    "    my_ellipse2 = Ellipse(xy=(ra_irdc-0.3/np.cos(np.deg2rad(dec_irdc)),dec_irdc+0.3),height = 2*0.0436,width=2*0.0436/np.cos(np.deg2rad(dec_irdc)),facecolor=\"w\",edgecolor=\"w\",alpha=0.7)\n",
    "    ax1.text(ra_irdc-0.3/np.cos(np.deg2rad(dec_irdc)),dec_irdc+0.3,\"IFU\\nSize\",ha=\"center\",va=\"center\")\n",
    "\n",
    "\n",
    "    ax1.text(ra_irdc+0.1/np.cos(np.deg2rad(dec_irdc)),dec_irdc-0.1,\"Cloud Radius\",ha=\"center\",va=\"center\",color=\"r\")\n",
    "\n",
    "    #mycb = fig.colorbar(myplot2,ax=ax2)\n",
    "    #mycb.set_label(\"Contamination fraction\")\n",
    "    fig.colorbar(myplot1,ax=ax1)\n",
    "    fig.colorbar(myplot2,ax=ax2)\n",
    "\n",
    "    #ax2.add_patch(my_circle)\n",
    "    ax1.add_patch(my_ellipse)\n",
    "    ax1.add_patch(my_ellipse2)\n",
    "\n",
    "    ax1.axhline(dec_irdc,color=\"r\")\n",
    "    ax1.axvline(ra_irdc,color=\"r\")\n",
    "\n",
    "    #ax2.axvline(ra_irdc-irdc_r/np.cos(np.deg2rad(dec_irdc)),color=\"r\")\n",
    "    #ax2.axvline(ra_irdc+irdc_r/np.cos(np.deg2rad(dec_irdc)),color=\"r\")\n",
    "\n",
    "    ax2.set_xlabel(\"RA\")\n",
    "    ax2.set_ylabel(\"DEC\")\n",
    "\n",
    "    #fig.savefig(\"/home/haeberle/exchange/example_cloud_5_maglim_12_highres.png\",dpi=200,bbox_inches=\"tight\")\n"
   ]
  },
  {
   "cell_type": "code",
   "execution_count": null,
   "metadata": {},
   "outputs": [],
   "source": [
    "min_index = np.argmin(np.reshape(np.sum(np.array(combined_neighbour_array)<mag_lim,axis=1),xx.shape)/len(ifu_point_list))\n",
    "\n",
    "print(coordinate_list[min_index])\n",
    "print(xx.flatten()[min_index])\n",
    "print(yy.flatten()[min_index])"
   ]
  },
  {
   "cell_type": "code",
   "execution_count": null,
   "metadata": {},
   "outputs": [],
   "source": []
  },
  {
   "cell_type": "code",
   "execution_count": null,
   "metadata": {},
   "outputs": [],
   "source": []
  },
  {
   "cell_type": "code",
   "execution_count": null,
   "metadata": {},
   "outputs": [],
   "source": []
  },
  {
   "cell_type": "code",
   "execution_count": null,
   "metadata": {},
   "outputs": [],
   "source": [
    "len(data_combined)"
   ]
  },
  {
   "cell_type": "code",
   "execution_count": null,
   "metadata": {
    "tags": []
   },
   "outputs": [],
   "source": [
    "\n",
    "print(c)\n",
    "color_array=[\"r\",\"g\",\"b\",\"r\",\"g\",\"b\"]\n",
    "\n",
    "\n",
    "fig,ax = plt.subplots(figsize=(12,12))\n",
    "\n",
    "ax.plot(data_combined[\"ra\"],data_combined[\"dec\"],\"c.\",ms=1)\n",
    "\n",
    "for index,pa in enumerate([0,60,120,180,240,300]):\n",
    "        print(\"PA: \",pa)\n",
    "        if pa==0:\n",
    "            print(\"Using the full cat for the first position\")\n",
    "            culled_cat=lvmguiding.cat_full\n",
    "        ras,decs,dd_x_mm,dd_y_mm,chip_xxs,chip_yys,mags,culled_cat = lvmguiding.find_guide_stars(c,pa=pa,plotflag=False,recycled_cat=data_combined)\n",
    "        \n",
    "        if pa==0:\n",
    "            ax.plot(culled_cat[\"ra\"],culled_cat[\"dec\"],\"k.\",ms=1)\n",
    "        ax.plot(ras,decs,\".\",c=color_array[index],label=\"PA = \"+str(pa)+\" deg\")\n",
    "        \n",
    "ax.legend()\n",
    "\n",
    "ax.set_xlabel(\"RA [deg]\")\n",
    "ax.set_ylabel(\"DEC [deg]\")\n",
    "ax.invert_xaxis()\n",
    "\n",
    "#fig.savefig(\"/home/haeberle/exchange/lvm/report/position_angles.png\",bbox_inches=\"tight\",facecolor=\"w\",edgecolor=\"w\",dpi=200)"
   ]
  },
  {
   "cell_type": "code",
   "execution_count": null,
   "metadata": {},
   "outputs": [],
   "source": []
  },
  {
   "cell_type": "code",
   "execution_count": null,
   "metadata": {},
   "outputs": [],
   "source": [
    "my_instrument = lvmguiding.InstrumentParameters()"
   ]
  },
  {
   "cell_type": "code",
   "execution_count": null,
   "metadata": {},
   "outputs": [],
   "source": [
    "dd_x_mm.shape"
   ]
  },
  {
   "cell_type": "code",
   "execution_count": null,
   "metadata": {},
   "outputs": [],
   "source": [
    "my_instrument = lvmguiding.InstrumentParameters()\n",
    "my_instrument.mag_lim_lower = 17 #If you use a value higher than 17 here, make sure to remote-query the Gaia catalog\n",
    "remote_query = False"
   ]
  },
  {
   "cell_type": "code",
   "execution_count": null,
   "metadata": {},
   "outputs": [],
   "source": [
    "len(data_combined)"
   ]
  },
  {
   "cell_type": "code",
   "execution_count": null,
   "metadata": {},
   "outputs": [],
   "source": [
    "dd_x_mm,dd_y_mm,culled_cat = lvmguiding.find_guide_stars(c,pa=0,plotflag=False,return_focal_plane_coords=True,remote_catalog=remote_query,inst=my_instrument,recycled_cat=data_combined)"
   ]
  },
  {
   "cell_type": "code",
   "execution_count": null,
   "metadata": {
    "tags": []
   },
   "outputs": [],
   "source": [
    "second_stage_mag_lim = my_instrument.mag_lim_lower #Adapt this if you want to change the maglim AFTER the catalog query\n",
    "\n",
    "selection_mag = culled_cat[\"phot_g_mean_mag\"] < second_stage_mag_lim\n",
    "print(\"Number of sources in focal plane: \",len(dd_x_mm))\n",
    "print(\"Stars that pass second stage mag selection: \",np.sum(selection_mag))"
   ]
  },
  {
   "cell_type": "code",
   "execution_count": null,
   "metadata": {},
   "outputs": [],
   "source": [
    "# Define the IFU, it has to be doubled checked whether the used lens radius is alright and whether the IFU lib produces the correct results\n",
    "\n",
    "my_ifu = IFU.IFU(4) \n",
    "lens_radii = 0.315/2 * np.ones_like(my_ifu.lensx) #This comes from PDR Document, Figure 4"
   ]
  },
  {
   "cell_type": "code",
   "execution_count": null,
   "metadata": {},
   "outputs": [],
   "source": [
    "import scipy.spatial\n",
    "import matplotlib"
   ]
  },
  {
   "cell_type": "code",
   "execution_count": null,
   "metadata": {},
   "outputs": [],
   "source": [
    "nmax=10\n",
    "data_dict={}\n",
    "data_dict[\"x\"] = dd_x_mm[selection_mag]#.filled() \n",
    "data_dict[\"y\"] = dd_y_mm[selection_mag]#.filled() \n",
    "data_dict[\"m\"] = culled_cat[\"phot_g_mean_mag\"][selection_mag]\n",
    "print(\"Creating Tree...\")\n",
    "t0 = time.time()\n",
    "#xy_list = np.vstack((dd_x_mm[selection_mag].filled(),dd_y_mm[selection_mag].filled())).T\n",
    "xy_list = np.vstack((data_dict[\"x\"],data_dict[\"y\"])).T\n",
    "YourTreeName = scipy.spatial.cKDTree(xy_list, leafsize=100)\n",
    "t1 = time.time()\n",
    "print(\"... done! Time: {:.4f} s\".format(t1-t0))"
   ]
  },
  {
   "cell_type": "code",
   "execution_count": null,
   "metadata": {},
   "outputs": [],
   "source": [
    "use_tree = False\n",
    "plotflag = True\n",
    "\n",
    "time0 = time.time()\n",
    "contaminated = np.array(my_ifu.lensx) < -999\n",
    "for i in range(len(my_ifu.lensx)):\n",
    "    current_x = my_ifu.lensx[i]\n",
    "    current_y = my_ifu.lensy[i]\n",
    "    current_r = lens_radii[i]\n",
    "    if use_tree:\n",
    "        query_result = YourTreeName.query((current_x,current_y), k=nmax, distance_upper_bound=current_r)#\n",
    "        x_neighbours = data_dict[\"x\"][query_result[1][np.isfinite(query_result[0])]]\n",
    "        y_neighbours = data_dict[\"y\"][query_result[1][np.isfinite(query_result[0])]]\n",
    "        m_neighbours = data_dict[\"m\"][query_result[1][np.isfinite(query_result[0])]]\n",
    "        \n",
    "        #print(\"Fiber Nr.: {:3d} Nneighbours: {:3d}\".format(i,len(m_neighbours)))\n",
    "        if len(m_neighbours)>0:\n",
    "            contaminated[i]=True\n",
    "    else:\n",
    "        d2 = (current_x-dd_x_mm[selection_mag])**2+(current_y-dd_y_mm[selection_mag])**2\n",
    "        if d2.min() < current_r**2:\n",
    "            contaminated[i]=True\n",
    "\n",
    "        \n",
    "            \n",
    "time1 = time.time()\n",
    "\n",
    "print(\"Neighbour search took {:6.2}s\".format(time1-time0))\n",
    "print(\"{} of {} ({:.1f}%) fibers are contaminated with stars brighter {} gmag\".format(np.sum(contaminated),len(contaminated),100*np.sum(contaminated)/len(contaminated),second_stage_mag_lim))\n",
    "\n",
    "\n",
    "\n",
    "if plotflag:\n",
    "    fig,(ax1,ax2) = plt.subplots(figsize=(20,12),ncols=2)\n",
    "    fig.suptitle(\"Pointing Coordinates:\\nRA: {:.6f}\\nDEC: {:.6f}\\n\\nMag. Lim: {} gmag\".format(c.ra,c.dec,second_stage_mag_lim))\n",
    "    ax1.set_title(\"Full focal plane\\nN Sources: {}\".format(len(dd_x_mm)))\n",
    "\n",
    "\n",
    "    ax1.set_xlabel(\"Focal plane x [mm]\")\n",
    "    ax1.set_ylabel(\"Focal plane y [mm]\")\n",
    "    ax2.set_xlabel(\"Focal plane x [mm]\")\n",
    "    ax2.set_ylabel(\"Focal plane y [mm]\")\n",
    "\n",
    "    ax1.plot(dd_x_mm,dd_y_mm,\"ko\",ms=1)\n",
    "    ax1.plot(my_ifu.lensx,my_ifu.lensy,\"bo\",ms=1)\n",
    "    ax1.plot(np.array(my_ifu.lensx)[contaminated],np.array(my_ifu.lensy)[contaminated],\"ro\",ms=1)\n",
    "    ax1.set_aspect(\"equal\")\n",
    "\n",
    "\n",
    "    ax2.set_xlim(-8,8)\n",
    "    ax2.set_ylim(-8,8)\n",
    "    ax2.set_aspect(\"equal\")\n",
    "\n",
    "    patches = [plt.Circle(center, size) for center, size in zip(np.stack((my_ifu.lensx,my_ifu.lensy),axis=1),lens_radii)]\n",
    "\n",
    "    patches_contaminated = [plt.Circle(center,size) for center, size in zip(np.stack((np.array(my_ifu.lensx)[contaminated],np.array(my_ifu.lensy)[contaminated]),axis=1),lens_radii[contaminated])]\n",
    "\n",
    "\n",
    "    #\n",
    "    coll = matplotlib.collections.PatchCollection(patches, facecolors='none',edgecolor=\"b\")\n",
    "    coll2 = matplotlib.collections.PatchCollection(patches_contaminated, facecolors='r',alpha=0.5)\n",
    "    ax2.add_collection(coll)\n",
    "    ax2.add_collection(coll2)\n",
    "\n",
    "    ax2.plot(dd_x_mm,dd_y_mm,\"ko\",ms=2)\n",
    "    #ax2.plot(dd_x_mm[selection_mag],dd_y_mm[selection_mag],\"ko\",ms=4)\n",
    "\n",
    "\n",
    "    ax2.set_title(\"IFU\\n{} of {} ({:.1f}%) fibers are contaminated with stars brighter {} gmag\".format(np.sum(contaminated),len(contaminated),100*np.sum(contaminated)/len(contaminated),second_stage_mag_lim))\n",
    "\n",
    "    circle = plt.Circle((-7,7),current_r,facecolor=\"none\",edgecolor=\"b\",alpha=0.5)\n",
    "    ax2.add_patch(circle)\n",
    "    \n",
    "    circle_irdc = plt.Circle((0,0),irdc_data[irdc_index,7]/my_instrument.image_scale,facecolor=\"none\",edgecolor=\"r\")\n",
    "    ax2.add_patch(circle_irdc)\n",
    "    circle = plt.Circle((-7,6.5),current_r,facecolor=\"r\",alpha=0.5)\n",
    "    ax2.add_patch(circle)\n",
    "    ax2.text(-6.5,7,\"Star-free Fiber\")#.format(maglim))\n",
    "    ax2.text(-6.5,6.5,\"Contaminated Fiber\")#.format(maglim))\n",
    "\n",
    "\n",
    "\n",
    "\n",
    "\n",
    "\n",
    "#fig.savefig(\"dark_patch_stellar_contamination.png\",dpi=200,bbox_inches=\"tight\",facecolor=\"w\")"
   ]
  },
  {
   "cell_type": "code",
   "execution_count": null,
   "metadata": {},
   "outputs": [],
   "source": [
    "my_instrument.image_scale"
   ]
  },
  {
   "cell_type": "code",
   "execution_count": null,
   "metadata": {},
   "outputs": [],
   "source": [
    "irdc_data[irdc_index,7]/my_instrument.image_scale"
   ]
  },
  {
   "cell_type": "markdown",
   "metadata": {},
   "source": [
    "## Create a synthetic image"
   ]
  },
  {
   "cell_type": "code",
   "execution_count": null,
   "metadata": {},
   "outputs": [],
   "source": [
    "ras,decs,dd_x_mm,dd_y_mm,chip_xxs,chip_yys,mags,culled_cat = lvmguiding.find_guide_stars(c,pa=0,plotflag=False)"
   ]
  },
  {
   "cell_type": "code",
   "execution_count": null,
   "metadata": {},
   "outputs": [],
   "source": [
    "standard_instrument = lvmguiding.InstrumentParameters()"
   ]
  },
  {
   "cell_type": "code",
   "execution_count": null,
   "metadata": {},
   "outputs": [],
   "source": [
    "my_image = lvmguiding.make_synthetic_image(chip_x=chip_xxs,\n",
    "                                           chip_y=chip_yys,\n",
    "                                          gmag=mags,\n",
    "                                          inst =standard_instrument,\n",
    "                                          exp_time=5,\n",
    "                                          seeing_arcsec=3.5,\n",
    "                                          sky_flux=15)"
   ]
  },
  {
   "cell_type": "code",
   "execution_count": null,
   "metadata": {},
   "outputs": [],
   "source": [
    "combined= my_image\n",
    "fig,ax4 = plt.subplots(figsize=(12,8))\n",
    "\n",
    "vmin4 = np.percentile(combined,25)\n",
    "vmax4 = np.percentile(combined,99.5)\n",
    "\n",
    "my_plot4 = ax4.imshow(combined,origin=\"lower\",norm=LogNorm(vmin=np.max([vmin4,1]), vmax=vmax4))\n",
    "\n",
    "\n",
    "#if np.sum(sn>5) < 10:\n",
    "#    ax4.set_title(\"Combined (Bias + Readout Error + Noisy Background + Noisy Stars)\\nBrightest star (red): gmag = {:.2f} ; F = {:.1f} e-/s\\nPotentially saturated pixels (Ne- > 20000): {}\\nWhite circle around all stars with S/N > 5 (N = {})\".format(np.min(gmag),gaia_flux[np.argmin(gmag)],np.sum(combined>20000),np.sum(sn>5)))\n",
    "#    ax4.plot(x_position[sn>5],y_position[sn>5],\"o\",ms=40,markerfacecolor=\"none\",markeredgecolor=\"w\",label=\"gmag < 12\")\n",
    "#else:\n",
    "#    ax4.set_title(\"Combined (Bias + Readout Error + Noisy Background + Noisy Stars)\\nPointing: {}  Texp: {} s\\n{} of {} stars have a S/N > 5\\nBrightest star (red): gmag = {:.2f} ; F = {:.1f} e-/s\\nPotentially saturated pixels (Ne- > 20000): {}\\n\".format(pointing_string,exp_time,np.sum(sn>5),len(gmag),np.min(gmag),gaia_flux[np.argmin(gmag)],np.sum(combined>20000)))\n",
    "#ax4.plot(x_position[np.argmin(gmag)],y_position[np.argmin(gmag)],\"o\",ms=20,markerfacecolor=\"none\",markeredgecolor=\"r\",label=\"gmag < 12\")\n",
    "plt.colorbar(my_plot4,ax=ax4,fraction=0.046, pad=0.04)\n",
    "#plt.colorbar(my_plot4,ax=ax,fraction=0.046, pad=0.04)\n",
    "#ax4.legend()\n",
    "\n",
    "fig.tight_layout()\n",
    "\n",
    "#filename = \"/home/haeberle/exchange/lvm/report/pointing_\"+pointing_string+\"_{:d}ms.png\".format(int(1000*exp_time))\n",
    "#fig.suptitle()\n",
    "#fig.savefig(\"/home/haeberle/exchange/lvm/report/example_crowded_field.png\",dpi=200,bbox_inches=\"tight\",edgecolor=\"white\",facecolor=\"white\")\n",
    "#fig.savefig(filename,dpi=200,bbox_inches=\"tight\",edgecolor=\"white\",facecolor=\"white\") "
   ]
  }
 ],
 "metadata": {
  "kernelspec": {
   "display_name": "Python 3",
   "language": "python",
   "name": "python3"
  },
  "language_info": {
   "codemirror_mode": {
    "name": "ipython",
    "version": 3
   },
   "file_extension": ".py",
   "mimetype": "text/x-python",
   "name": "python",
   "nbconvert_exporter": "python",
   "pygments_lexer": "ipython3",
   "version": "3.6.8"
  }
 },
 "nbformat": 4,
 "nbformat_minor": 4
}
