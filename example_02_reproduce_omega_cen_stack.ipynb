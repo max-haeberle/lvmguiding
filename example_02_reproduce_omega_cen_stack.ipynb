{
 "cells": [
  {
   "cell_type": "markdown",
   "metadata": {
    "tags": []
   },
   "source": [
    "# LVM Guide Star Catalog using the new library"
   ]
  },
  {
   "cell_type": "code",
   "execution_count": null,
   "metadata": {},
   "outputs": [],
   "source": [
    "import lvmguiding\n",
    "import numpy as np\n",
    "import os\n",
    "import matplotlib.pyplot as plt\n",
    "import time\n",
    "from astropy.coordinates import SkyCoord\n",
    "from importlib import reload\n",
    "from matplotlib.colors import LogNorm"
   ]
  },
  {
   "cell_type": "markdown",
   "metadata": {},
   "source": [
    "## Create a synthetic image"
   ]
  },
  {
   "cell_type": "code",
   "execution_count": null,
   "metadata": {},
   "outputs": [],
   "source": [
    "widefield_instrument = lvmguiding.InstrumentParameters()\n",
    "\n",
    "#widefield_instrument.chip_width=300\n",
    "#widefield_instrument.pixel_width=30000\n",
    "\n",
    "#widefield_instrument.pixel_height=30000\n",
    "#widefield_instrument.chip_height=300 #10 um/pixel\n",
    "\n",
    "\n",
    "widefield_instrument.chip_width=40\n",
    "widefield_instrument.chip_height=40 #10 um/pixel\n",
    "widefield_instrument.pixel_width=4000\n",
    "widefield_instrument.pixel_height=4000\n",
    "\n",
    "widefield_instrument.image_scale=250# microns/arcsec -> 0.04 arcsec/pixel\n",
    "widefield_instrument.dark_current = 0\n",
    "widefield_instrument.mag_lim_lower = 999"
   ]
  },
  {
   "cell_type": "code",
   "execution_count": null,
   "metadata": {},
   "outputs": [],
   "source": [
    "ra0  =  (13+26./60+47.24/3600)*15   #13:26:47.24\n",
    "dec0 = -(47+28./60+46.45/3600)  #−47:28:46.\n",
    "\n",
    "c = SkyCoord(ra=ra0,dec=dec0,unit=\"deg\")\n",
    "\n",
    "dd_x_mm,dd_y_mm,culled_cat = lvmguiding.find_guide_stars(c,pa=0,plotflag=False,return_focal_plane_coords=True,remote_catalog=False,east_is_right=False,inst=widefield_instrument)\n",
    "\n",
    "chip_xxs = dd_x_mm#+44.5/2\n",
    "chip_yys = dd_y_mm#+44.5/2 \n",
    "mags = culled_cat[\"phot_g_mean_mag\"]"
   ]
  },
  {
   "cell_type": "code",
   "execution_count": null,
   "metadata": {},
   "outputs": [],
   "source": []
  },
  {
   "cell_type": "code",
   "execution_count": null,
   "metadata": {},
   "outputs": [],
   "source": [
    "my_image = lvmguiding.make_synthetic_image(chip_x=chip_xxs+widefield_instrument.chip_width/2,\n",
    "                                           chip_y=chip_yys+widefield_instrument.chip_width/2,\n",
    "                                          gmag=mags,\n",
    "                                          inst = widefield_instrument,\n",
    "                                          exp_time=1000,\n",
    "                                          seeing_arcsec=.4,\n",
    "                                          sky_flux=0)#,\n",
    "                                          #write_output=\"omega_cen_30k.fits\")"
   ]
  },
  {
   "cell_type": "code",
   "execution_count": null,
   "metadata": {},
   "outputs": [],
   "source": [
    "combined= my_image\n",
    "fig,ax4 = plt.subplots(figsize=(12,8))\n",
    "\n",
    "#vmin4 = np.percentile(combined,25)\n",
    "#vmax4 = np.percentile(combined,99.5)\n",
    "\n",
    "my_plot4 = ax4.imshow(combined,origin=\"lower\",norm=LogNorm(100,10000))#vmin=np.max([vmin4,1]), vmax=vmax4))\n",
    "\n",
    "\n",
    "#if np.sum(sn>5) < 10:\n",
    "#    ax4.set_title(\"Combined (Bias + Readout Error + Noisy Background + Noisy Stars)\\nBrightest star (red): gmag = {:.2f} ; F = {:.1f} e-/s\\nPotentially saturated pixels (Ne- > 20000): {}\\nWhite circle around all stars with S/N > 5 (N = {})\".format(np.min(gmag),gaia_flux[np.argmin(gmag)],np.sum(combined>20000),np.sum(sn>5)))\n",
    "#    ax4.plot(x_position[sn>5],y_position[sn>5],\"o\",ms=40,markerfacecolor=\"none\",markeredgecolor=\"w\",label=\"gmag < 12\")\n",
    "#else:\n",
    "#    ax4.set_title(\"Combined (Bias + Readout Error + Noisy Background + Noisy Stars)\\nPointing: {}  Texp: {} s\\n{} of {} stars have a S/N > 5\\nBrightest star (red): gmag = {:.2f} ; F = {:.1f} e-/s\\nPotentially saturated pixels (Ne- > 20000): {}\\n\".format(pointing_string,exp_time,np.sum(sn>5),len(gmag),np.min(gmag),gaia_flux[np.argmin(gmag)],np.sum(combined>20000)))\n",
    "#ax4.plot(x_position[np.argmin(gmag)],y_position[np.argmin(gmag)],\"o\",ms=20,markerfacecolor=\"none\",markeredgecolor=\"r\",label=\"gmag < 12\")\n",
    "plt.colorbar(my_plot4,ax=ax4,fraction=0.046, pad=0.04)\n",
    "#plt.colorbar(my_plot4,ax=ax,fraction=0.046, pad=0.04)\n",
    "#ax4.legend()\n",
    "\n",
    "fig.tight_layout()\n",
    "\n",
    "#filename = \"/home/haeberle/exchange/lvm/report/pointing_\"+pointing_string+\"_{:d}ms.png\".format(int(1000*exp_time))\n",
    "#fig.suptitle()\n",
    "#fig.savefig(\"/home/haeberle/exchange/lvm/report/example_crowded_field.png\",dpi=200,bbox_inches=\"tight\",edgecolor=\"white\",facecolor=\"white\")\n",
    "#fig.savefig(filename,dpi=200,bbox_inches=\"tight\",edgecolor=\"white\",facecolor=\"white\") "
   ]
  },
  {
   "cell_type": "code",
   "execution_count": null,
   "metadata": {
    "tags": []
   },
   "outputs": [],
   "source": []
  }
 ],
 "metadata": {
  "kernelspec": {
   "display_name": "Python 3",
   "language": "python",
   "name": "python3"
  },
  "language_info": {
   "codemirror_mode": {
    "name": "ipython",
    "version": 3
   },
   "file_extension": ".py",
   "mimetype": "text/x-python",
   "name": "python",
   "nbconvert_exporter": "python",
   "pygments_lexer": "ipython3",
   "version": "3.6.8"
  }
 },
 "nbformat": 4,
 "nbformat_minor": 4
}
